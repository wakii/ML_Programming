{
  "nbformat": 4,
  "nbformat_minor": 0,
  "metadata": {
    "kernelspec": {
      "display_name": "Python 3",
      "language": "python",
      "name": "python3"
    },
    "colab": {
      "name": "lesson4-collab.ipynb",
      "provenance": [],
      "include_colab_link": true
    },
    "accelerator": "GPU"
  },
  "cells": [
    {
      "cell_type": "markdown",
      "metadata": {
        "id": "view-in-github",
        "colab_type": "text"
      },
      "source": [
        "<a href=\"https://colab.research.google.com/github/wakii/ML_Programming/blob/master/ex5-collab.ipynb\" target=\"_parent\"><img src=\"https://colab.research.google.com/assets/colab-badge.svg\" alt=\"Open In Colab\"/></a>"
      ]
    },
    {
      "cell_type": "markdown",
      "metadata": {
        "id": "lwxcn6bOw74D",
        "colab_type": "text"
      },
      "source": [
        "# Review\n",
        "- IMDB에서 positive, negative를 확인할 때의 문제점 \n",
        "  - neural networks는 weight matrics를 random setting에서 시작하는데, 이는 model을 학습시키기에 data양이 절대적으로 부족하다. \n",
        "  - 언어의 특성상, sarcasm, 변형 등 표현이 너무 다양함은 그 어려움을 배가시킨다.\n",
        "\n",
        "  - 따라서 tranfer learning을 통해 그 문제를 어느 정도 해결한다.(trick)\n",
        "\n",
        "## Transfer Learning in NLP\n",
        "  - computer vision과 같이 Pre-trained model을 이용한다.\n",
        "  - Imagenet에서는, pretrained model을 만들고 fine-tuning을 하여 specifict dataset에 대한 정확도를 높인다.\n",
        "\n",
        "  - NLP에서는, 문장의 다음 단어를 예측하는 language model라는 pretrained model을 사용한다.\n",
        "  - 이전에는 nlp에서 ngram을 사용했는데, 예측할 수 있는 단어 수(정보)가 별로 없는 등 효과가 좋지 않았지만, neural net에서는 다음 단어에 대해 매우 많은 종류의 단어들을 예측할 수 있다.\n",
        "  - 더 나아가, yes or no 등의 single bit 정도의 예측 뿐만 아니라, 얼마나 영어를 잘하나 등과 같은 깊은 의미까지 다룰 수 있게 되었다.\n",
        "  ### Wikitext 103\n",
        "  - wikitext103 dataset이라는 wikipdia의 preprocessed model을 사용한다.\n",
        "  - 이를 통해 wikipedia article들에서의 다음 단어들을 예측할 수 있다. \n",
        "  - nlp에서의 좋은 model을 갖는다는 것은 실제 세계가 어떻게 돌아가는지, 무엇인지 등을 이해하는데 도움이 된다.\n",
        "\n",
        "  - 따라서 우리는 imageNet에서 pre-trained model을 사용한 것과 같이 다음 단어를 예측할 수 있을 뿐만 아니라 언어와 그것이 무엇을 의미한느지를 이해하는 Wikitext model을 가져와 사용할 것이다.\n",
        "  - 그리고 이를 활용하여 movie reviews에서 next word를 예측할 수 있는 새로운 language model을 만들 것이다.\n"
      ]
    },
    {
      "cell_type": "markdown",
      "metadata": {
        "id": "44j14AFG8dv7",
        "colab_type": "text"
      },
      "source": [
        "- universal approximation theorem\n",
        "- back propagation : where we take the loss function between the actual targets and the output of the final layer (i.e. the final activations), we calculate the gradients with respect to all of these yellow things, and then we update those yellow things by subtracting learning rate times the gradient. That process of calculating those gradients and then subtracting \n",
        "  - weights ﹣= weight.grad * learning rate\n"
      ]
    },
    {
      "cell_type": "markdown",
      "metadata": {
        "id": "Lluij_118g1O",
        "colab_type": "text"
      },
      "source": [
        "- fine tuning을 하는 이유 : resnet34에서 이미 fitted된 모델을 가져오는 transfer learning에서는 이미지넷의 1000개의 categories가 똑같이 셋팅되어 있다.\n",
        "  - 이는 우리가 그것을 적용할 data set의 카테고리 수 와 그 값에서 일치하지 않는다.\n",
        "  - 따라서 새로운 two weight matrices와 그 사이에 ReLu activation function을 만든다.\n",
        "  - data.c 만큼의 col을 가진 matric를 최종 weight matrice로 사용한다.\n",
        "  - 새로이 추가된 matrice는 random number이기 때문에, tuning을 해준다. \n",
        "  - 새로이 tuning 하지 않는 layer들로는 더 기본적인 더 단순한 pattern들을 판별하는 용도로 사용할 수 있다. \n"
      ]
    },
    {
      "cell_type": "markdown",
      "metadata": {
        "id": "0RCS84lC8hnK",
        "colab_type": "text"
      },
      "source": [
        "- freezing layers :\n",
        "  - 새로이 fitting하는 layer들이 아닌 기존의 더 단순한 layer들은 back propagation의 대상으로 삼지 않는 것\n",
        "  -  freeze 함수를 이용할 시 randomly generated added layer들만 새로이 fitting하고, 그 외의 것들은 그대로 둔다.\n",
        "\n",
        "- Unfreezing and Using Discriminative Learning Rates\n",
        "  - 새롭게 추가한 layer들을 더 training 시킬 때, model을 몇개의 부분으로 나눈다. \n",
        "  - 각 부분마다 different learning rate를 적용한다. \n",
        "  - ex) 초기에는 1e-5, 나중에는 1e-3과 같이\n",
        "\n",
        "- discriminative Learning Rates\n",
        "  - early layers들에게는 작은 learning rate를 적용하여 optimal value를 찾는다.\n",
        "  - 만약 너무 높은 LR을 이용할 경우, 최적점에서 너무 멀어져버린다.\n",
        "  - 따라서 transfer learning에서는 이러한 설정이 매우 중요하다.\n",
        "    - You can put a `single number` (e.g. 1e-3): Every layer gets the same learning rate. So you're not using discriminative learning rates.\n",
        "    - You can write a `slice`. So you can write slice with a single number (e.g. slice(1e-3)): The final layers get a learning rate of whatever you wrote down (1e-3), and then all the other layers get the same learning rate which is that divided by 3. So all of the other layers will be 1e-3/3. The last layers will be 1e-3.\n",
        "    - You can write slice with two numbers (e.g. slice(1e-5, 1e-3)). The final layers (these randomly added layers) will still be again 1e-3. The first layers will get 1e-5, and the other layers will get learning rates that are equally spread between those two - so multiplicatively equal. If there were three layers, there would be 1e-5, 1e-4, 1e-3, so equal multiples each time.\n",
        "\n",
        "    - every layer가 아닌 `layer group`마다 다른 LR을 적용한다.\n",
        "      - 새로 추가된 random layers들을 한 그룹\n",
        "      - 나머지들을 2그룹으로 나눈다.\n",
        "        - By default (at least with a CNN), you'll get three layer groups. If you say slice(1e-5, 1e-3), you will get 1e-5 learning rate for the first layer group, 1e-4 for the second, 1e-3 for the third."
      ]
    },
    {
      "cell_type": "markdown",
      "metadata": {
        "id": "zwabLFB_8jOe",
        "colab_type": "text"
      },
      "source": [
        "- Affine Function\n",
        "  - matrix multiplication과 같은 linear functions들을 affine function이라 부른다. "
      ]
    },
    {
      "cell_type": "markdown",
      "metadata": {
        "id": "P4p-61wt8mIz",
        "colab_type": "text"
      },
      "source": [
        "- Embedding \n",
        "  - 원래는 input matrice들을 one-hot encoding을 통해 만들고 이를 matrix multiplication 한다. : array lookup\n",
        "    - 하지만 이 방법은 메모리의 대부분을 0,1로 채우기 때문에 비효율적이다.\n",
        "  - 따라서 이러한 matrix를 생성하지 않는 방법인 embedding을 한다. : going to pass in a bunch of integers and pretend they're one not encoded.\n",
        "  - embedding은 look something up in a array를 의미한다. when you hear people say embedding, you need to replace it in your head with \"an array lookup\" which we know is mathematically identical to matrix multiply by a one hot encoded matrix.\n",
        "  - input인 userId 값에 해당하는 weight matrix를 얻게 되는 것이다.\n",
        "  - 이를 통해 각 embedding 값이 무엇을 의미하는지를 몰라도 곱해지는 해당 쌍의 값이 높으면 그 user가 그 movie(taste)를 좋아한다고 그 의미를 찾을 수 있다.  \n",
        "  - these numbers represent features of personal taste and corresponding features of movies.\n",
        "    -For example, the movie has John Travolta in it and user ID likes John Travolta, then you'll like this movie.\n"
      ]
    },
    {
      "cell_type": "markdown",
      "metadata": {
        "id": "h3CXfSWY8o6K",
        "colab_type": "text"
      },
      "source": [
        "- Bias\n",
        "  - John Travolta 를 좋아한다할지라도, 아무도 그가 출연한 Battlefield Earth를 좋아하지 않는다.(매우 재미 없는 영화인가봄)\n",
        "  - 위와 같은 방법에서는 BE에 JT가 출연했기 때문에 추천을 해주기 마련이다.\n",
        "  - 이를 조정하기 위해서 Bias가 필요하다.\n",
        "\n",
        "  - 즉, 각 user, 각 movie가 갖고 있는 편향성(bias)를 더해주어야 한다.\n",
        "    - 어떤 user는 더 후하고, 어떤 user는 깐깐하다.\n",
        "    - 어떤 영화는 더 재밌고, 어떤 영화는 재미없다.\n"
      ]
    },
    {
      "cell_type": "code",
      "metadata": {
        "id": "bfXgMR-eueyB",
        "colab_type": "code",
        "colab": {}
      },
      "source": [
        "from fastai.collab import *\n",
        "from fastai.tabular import *"
      ],
      "execution_count": 0,
      "outputs": []
    },
    {
      "cell_type": "markdown",
      "metadata": {
        "id": "FEzDYdzvueyL",
        "colab_type": "text"
      },
      "source": [
        "## Collaborative filtering example"
      ]
    },
    {
      "cell_type": "markdown",
      "metadata": {
        "id": "n2BULjEzI_UW",
        "colab_type": "text"
      },
      "source": [
        "- collaborative filtering에는 두가지 구조가 있다.\n",
        "  - userId, Movie를 2 col에 갖고 있는 형식\n",
        "  - userxMovies로 갖고 있는 형식"
      ]
    },
    {
      "cell_type": "markdown",
      "metadata": {
        "id": "ENNdFYkIueyM",
        "colab_type": "text"
      },
      "source": [
        "`collab` models use data in a `DataFrame` of user, items, and ratings."
      ]
    },
    {
      "cell_type": "code",
      "metadata": {
        "id": "m4za_8RNueyO",
        "colab_type": "code",
        "colab": {}
      },
      "source": [
        "user,item,title = 'userId','movieId','title'"
      ],
      "execution_count": 0,
      "outputs": []
    },
    {
      "cell_type": "code",
      "metadata": {
        "id": "ZRE6fgBNueyU",
        "colab_type": "code",
        "outputId": "b1a54434-f851-4981-cce6-0b93d4d4116f",
        "colab": {
          "base_uri": "https://localhost:8080/",
          "height": 51
        }
      },
      "source": [
        "path = untar_data(URLs.ML_SAMPLE)\n",
        "path"
      ],
      "execution_count": 49,
      "outputs": [
        {
          "output_type": "stream",
          "text": [
            "Downloading http://files.fast.ai/data/examples/movie_lens_sample\n"
          ],
          "name": "stdout"
        },
        {
          "output_type": "display_data",
          "data": {
            "text/html": [
              ""
            ],
            "text/plain": [
              "<IPython.core.display.HTML object>"
            ]
          },
          "metadata": {
            "tags": []
          }
        },
        {
          "output_type": "execute_result",
          "data": {
            "text/plain": [
              "PosixPath('/root/.fastai/data/movie_lens_sample')"
            ]
          },
          "metadata": {
            "tags": []
          },
          "execution_count": 49
        }
      ]
    },
    {
      "cell_type": "code",
      "metadata": {
        "id": "q5zxpsNdueya",
        "colab_type": "code",
        "outputId": "6508a653-ad81-4fbd-924d-20dff1e28830",
        "colab": {
          "base_uri": "https://localhost:8080/",
          "height": 204
        }
      },
      "source": [
        "ratings = pd.read_csv(path/'ratings.csv')\n",
        "ratings.head()"
      ],
      "execution_count": 50,
      "outputs": [
        {
          "output_type": "execute_result",
          "data": {
            "text/html": [
              "<div>\n",
              "<style scoped>\n",
              "    .dataframe tbody tr th:only-of-type {\n",
              "        vertical-align: middle;\n",
              "    }\n",
              "\n",
              "    .dataframe tbody tr th {\n",
              "        vertical-align: top;\n",
              "    }\n",
              "\n",
              "    .dataframe thead th {\n",
              "        text-align: right;\n",
              "    }\n",
              "</style>\n",
              "<table border=\"1\" class=\"dataframe\">\n",
              "  <thead>\n",
              "    <tr style=\"text-align: right;\">\n",
              "      <th></th>\n",
              "      <th>userId</th>\n",
              "      <th>movieId</th>\n",
              "      <th>rating</th>\n",
              "      <th>timestamp</th>\n",
              "    </tr>\n",
              "  </thead>\n",
              "  <tbody>\n",
              "    <tr>\n",
              "      <th>0</th>\n",
              "      <td>73</td>\n",
              "      <td>1097</td>\n",
              "      <td>4.0</td>\n",
              "      <td>1255504951</td>\n",
              "    </tr>\n",
              "    <tr>\n",
              "      <th>1</th>\n",
              "      <td>561</td>\n",
              "      <td>924</td>\n",
              "      <td>3.5</td>\n",
              "      <td>1172695223</td>\n",
              "    </tr>\n",
              "    <tr>\n",
              "      <th>2</th>\n",
              "      <td>157</td>\n",
              "      <td>260</td>\n",
              "      <td>3.5</td>\n",
              "      <td>1291598691</td>\n",
              "    </tr>\n",
              "    <tr>\n",
              "      <th>3</th>\n",
              "      <td>358</td>\n",
              "      <td>1210</td>\n",
              "      <td>5.0</td>\n",
              "      <td>957481884</td>\n",
              "    </tr>\n",
              "    <tr>\n",
              "      <th>4</th>\n",
              "      <td>130</td>\n",
              "      <td>316</td>\n",
              "      <td>2.0</td>\n",
              "      <td>1138999234</td>\n",
              "    </tr>\n",
              "  </tbody>\n",
              "</table>\n",
              "</div>"
            ],
            "text/plain": [
              "   userId  movieId  rating   timestamp\n",
              "0      73     1097     4.0  1255504951\n",
              "1     561      924     3.5  1172695223\n",
              "2     157      260     3.5  1291598691\n",
              "3     358     1210     5.0   957481884\n",
              "4     130      316     2.0  1138999234"
            ]
          },
          "metadata": {
            "tags": []
          },
          "execution_count": 50
        }
      ]
    },
    {
      "cell_type": "code",
      "metadata": {
        "id": "5z49vr_9Jvgr",
        "colab_type": "code",
        "outputId": "07ea67e9-2d07-427f-96cb-3b5644b5d420",
        "colab": {
          "base_uri": "https://localhost:8080/",
          "height": 297
        }
      },
      "source": [
        "ratings.describe()"
      ],
      "execution_count": 51,
      "outputs": [
        {
          "output_type": "execute_result",
          "data": {
            "text/html": [
              "<div>\n",
              "<style scoped>\n",
              "    .dataframe tbody tr th:only-of-type {\n",
              "        vertical-align: middle;\n",
              "    }\n",
              "\n",
              "    .dataframe tbody tr th {\n",
              "        vertical-align: top;\n",
              "    }\n",
              "\n",
              "    .dataframe thead th {\n",
              "        text-align: right;\n",
              "    }\n",
              "</style>\n",
              "<table border=\"1\" class=\"dataframe\">\n",
              "  <thead>\n",
              "    <tr style=\"text-align: right;\">\n",
              "      <th></th>\n",
              "      <th>userId</th>\n",
              "      <th>movieId</th>\n",
              "      <th>rating</th>\n",
              "      <th>timestamp</th>\n",
              "    </tr>\n",
              "  </thead>\n",
              "  <tbody>\n",
              "    <tr>\n",
              "      <th>count</th>\n",
              "      <td>6031.000000</td>\n",
              "      <td>6031.000000</td>\n",
              "      <td>6031.000000</td>\n",
              "      <td>6.031000e+03</td>\n",
              "    </tr>\n",
              "    <tr>\n",
              "      <th>mean</th>\n",
              "      <td>350.269773</td>\n",
              "      <td>1892.725419</td>\n",
              "      <td>3.807826</td>\n",
              "      <td>1.127659e+09</td>\n",
              "    </tr>\n",
              "    <tr>\n",
              "      <th>std</th>\n",
              "      <td>194.409989</td>\n",
              "      <td>4483.290497</td>\n",
              "      <td>0.961857</td>\n",
              "      <td>1.591801e+08</td>\n",
              "    </tr>\n",
              "    <tr>\n",
              "      <th>min</th>\n",
              "      <td>15.000000</td>\n",
              "      <td>1.000000</td>\n",
              "      <td>0.500000</td>\n",
              "      <td>8.538928e+08</td>\n",
              "    </tr>\n",
              "    <tr>\n",
              "      <th>25%</th>\n",
              "      <td>176.000000</td>\n",
              "      <td>457.000000</td>\n",
              "      <td>3.000000</td>\n",
              "      <td>9.764243e+08</td>\n",
              "    </tr>\n",
              "    <tr>\n",
              "      <th>50%</th>\n",
              "      <td>358.000000</td>\n",
              "      <td>1089.000000</td>\n",
              "      <td>4.000000</td>\n",
              "      <td>1.111489e+09</td>\n",
              "    </tr>\n",
              "    <tr>\n",
              "      <th>75%</th>\n",
              "      <td>518.000000</td>\n",
              "      <td>2028.000000</td>\n",
              "      <td>4.500000</td>\n",
              "      <td>1.232810e+09</td>\n",
              "    </tr>\n",
              "    <tr>\n",
              "      <th>max</th>\n",
              "      <td>665.000000</td>\n",
              "      <td>58559.000000</td>\n",
              "      <td>5.000000</td>\n",
              "      <td>1.473804e+09</td>\n",
              "    </tr>\n",
              "  </tbody>\n",
              "</table>\n",
              "</div>"
            ],
            "text/plain": [
              "            userId       movieId       rating     timestamp\n",
              "count  6031.000000   6031.000000  6031.000000  6.031000e+03\n",
              "mean    350.269773   1892.725419     3.807826  1.127659e+09\n",
              "std     194.409989   4483.290497     0.961857  1.591801e+08\n",
              "min      15.000000      1.000000     0.500000  8.538928e+08\n",
              "25%     176.000000    457.000000     3.000000  9.764243e+08\n",
              "50%     358.000000   1089.000000     4.000000  1.111489e+09\n",
              "75%     518.000000   2028.000000     4.500000  1.232810e+09\n",
              "max     665.000000  58559.000000     5.000000  1.473804e+09"
            ]
          },
          "metadata": {
            "tags": []
          },
          "execution_count": 51
        }
      ]
    },
    {
      "cell_type": "markdown",
      "metadata": {
        "id": "Bmv3_-Vjueyh",
        "colab_type": "text"
      },
      "source": [
        "That's all we need to create and train a model:"
      ]
    },
    {
      "cell_type": "code",
      "metadata": {
        "id": "-Cjq630Jueyi",
        "colab_type": "code",
        "colab": {}
      },
      "source": [
        "data = CollabDataBunch.from_df(ratings, seed=42)"
      ],
      "execution_count": 0,
      "outputs": []
    },
    {
      "cell_type": "code",
      "metadata": {
        "id": "GPZNKxw4ueyn",
        "colab_type": "code",
        "colab": {}
      },
      "source": [
        "y_range = [0,5.5]"
      ],
      "execution_count": 0,
      "outputs": []
    },
    {
      "cell_type": "code",
      "metadata": {
        "id": "h11tAyXJueyv",
        "colab_type": "code",
        "colab": {}
      },
      "source": [
        "learn = collab_learner(data, n_factors=50, y_range=y_range)"
      ],
      "execution_count": 0,
      "outputs": []
    },
    {
      "cell_type": "markdown",
      "metadata": {
        "id": "-9Ed0wsKJlI0",
        "colab_type": "text"
      },
      "source": [
        "- n_factors : architecture에게 제공\n",
        "- y-range : 0점부터 5.5점까지"
      ]
    },
    {
      "cell_type": "markdown",
      "metadata": {
        "id": "cbQuKv9SKI_w",
        "colab_type": "text"
      },
      "source": [
        "- cold start problem : parameter들을 맞추려고 할 때, 새로운 유저들, 새로운 영화들에 대한 데이터가 없다. 그래서 예측이 어렵다.\n",
        "- 그냥 metadata driven model을 이용하는게 최선이다.\n",
        "- 아님 처음에 data들을 계속 입력받아 학습을 하거나."
      ]
    },
    {
      "cell_type": "code",
      "metadata": {
        "id": "ctF51u53Ipx3",
        "colab_type": "code",
        "outputId": "2bd1c8f7-cbb1-451d-cd00-7abae90b6d0c",
        "colab": {
          "base_uri": "https://localhost:8080/",
          "height": 287
        }
      },
      "source": [
        "doc(collab_learner)"
      ],
      "execution_count": 55,
      "outputs": [
        {
          "output_type": "display_data",
          "data": {
            "text/html": [
              "<h4 id=\"collab_learner\" class=\"doc_header\"><code>collab_learner</code><a href=\"https://github.com/fastai/fastai/blob/master/fastai/collab.py#L96\" class=\"source_link\" style=\"float:right\">[source]</a><a class=\"source_link\" data-toggle=\"collapse\" data-target=\"#collab_learner-pytest\" style=\"float:right; padding-right:10px\">[test]</a></h4><blockquote><p><code>collab_learner</code>(<strong><code>data</code></strong>, <strong><code>n_factors</code></strong>:<code>int</code>=<strong><em><code>None</code></em></strong>, <strong><code>use_nn</code></strong>:<code>bool</code>=<strong><em><code>False</code></em></strong>, <strong><code>emb_szs</code></strong>:<code>Dict</code>[<code>str</code>, <code>int</code>]=<strong><em><code>None</code></em></strong>, <strong><code>layers</code></strong>:<code>Collection</code>[<code>int</code>]=<strong><em><code>None</code></em></strong>, <strong><code>ps</code></strong>:<code>Collection</code>[<code>float</code>]=<strong><em><code>None</code></em></strong>, <strong><code>emb_drop</code></strong>:<code>float</code>=<strong><em><code>0.0</code></em></strong>, <strong><code>y_range</code></strong>:<code>OptRange</code>=<strong><em><code>None</code></em></strong>, <strong><code>use_bn</code></strong>:<code>bool</code>=<strong><em><code>True</code></em></strong>, <strong><code>bn_final</code></strong>:<code>bool</code>=<strong><em><code>False</code></em></strong>, <strong>**<code>learn_kwargs</code></strong>) → <a href=\"https://docs.fast.ai/basic_train.html#Learner\"><code>Learner</code></a></p>\n",
              "</blockquote>\n",
              "<div class=\"collapse\" id=\"collab_learner-pytest\"><div class=\"card card-body pytest_card\"><a type=\"button\" data-toggle=\"collapse\" data-target=\"#collab_learner-pytest\" class=\"close\" aria-label=\"Close\"><span aria-hidden=\"true\">&times;</span></a><p>Tests found for <code>collab_learner</code>:</p><ul><li><code>pytest -sv tests/test_collab_train.py::test_val_loss</code> <a href=\"https://github.com/fastai/fastai/blob/master/tests/test_collab_train.py#L16\" class=\"source_link\" style=\"float:right\">[source]</a></li></ul><p>To run tests please refer to this <a href=\"/dev/test.html#quick-guide\">guide</a>.</p></div></div><p>Create a Learner for collaborative filtering on <code>data</code>.</p>\n",
              "<p><a href=\"https://docs.fast.ai/collab.html#collab_learner\" target=\"_blank\" rel=\"noreferrer noopener\">Show in docs</a></p>\n"
            ],
            "text/plain": [
              "<IPython.core.display.HTML object>"
            ]
          },
          "metadata": {
            "tags": []
          }
        }
      ]
    },
    {
      "cell_type": "code",
      "metadata": {
        "id": "oZWd1UJ_IslS",
        "colab_type": "code",
        "colab": {}
      },
      "source": [
        "??collab_learner\n",
        "??EmbeddingDotBias\n"
      ],
      "execution_count": 0,
      "outputs": []
    },
    {
      "cell_type": "markdown",
      "metadata": {
        "id": "b9DnrBNjLRtx",
        "colab_type": "text"
      },
      "source": [
        "- collab Learner는 EmbeddingDot  EmbeddingDotBias내의 pyTorch(nn.Module)로 값들을 처리한다.\n",
        "- EmbeddingDotBias\n",
        "  - n_factors, users,items, yrange등 의 값들을 tensor로 받아 저장후 \n",
        "  - forward에서 pyTorch를 이용해 gradients들을 계산한다.\n",
        "  - embedding 값들을 받아와 dot product들 해주고 bias term값을 넣어준다.\n",
        "  - bias는 유저마다 영화마다 다른 고유의 차이들을 처리하기 위함이다.\n",
        "  - layer들을 다 확장한 후에 sigmoid activation function으로 0~5.5사이의 값으로 환산한다. activation function들은 non-linearlity(한층의 layer만 가지고 있다.)\n",
        "- embedding\n",
        "  - nn.Module로 parameter matrix인 embedding layer들을 만든다.\n",
        "  - 초기에는 random값으로 들어있다.\n",
        "\n",
        "\n"
      ]
    },
    {
      "cell_type": "code",
      "metadata": {
        "id": "Em2bqli5uey1",
        "colab_type": "code",
        "outputId": "196a0c63-1828-46fe-f8c7-25eb47691672",
        "colab": {
          "base_uri": "https://localhost:8080/",
          "height": 142
        }
      },
      "source": [
        "learn.fit_one_cycle(3, 5e-3)"
      ],
      "execution_count": 57,
      "outputs": [
        {
          "output_type": "display_data",
          "data": {
            "text/html": [
              "<table border=\"1\" class=\"dataframe\">\n",
              "  <thead>\n",
              "    <tr style=\"text-align: left;\">\n",
              "      <th>epoch</th>\n",
              "      <th>train_loss</th>\n",
              "      <th>valid_loss</th>\n",
              "      <th>time</th>\n",
              "    </tr>\n",
              "  </thead>\n",
              "  <tbody>\n",
              "    <tr>\n",
              "      <td>0</td>\n",
              "      <td>1.619828</td>\n",
              "      <td>0.949228</td>\n",
              "      <td>00:00</td>\n",
              "    </tr>\n",
              "    <tr>\n",
              "      <td>1</td>\n",
              "      <td>0.846910</td>\n",
              "      <td>0.673375</td>\n",
              "      <td>00:00</td>\n",
              "    </tr>\n",
              "    <tr>\n",
              "      <td>2</td>\n",
              "      <td>0.650929</td>\n",
              "      <td>0.666772</td>\n",
              "      <td>00:00</td>\n",
              "    </tr>\n",
              "  </tbody>\n",
              "</table>"
            ],
            "text/plain": [
              "<IPython.core.display.HTML object>"
            ]
          },
          "metadata": {
            "tags": []
          }
        }
      ]
    },
    {
      "cell_type": "markdown",
      "metadata": {
        "id": "QDUPcSJ4Fhnu",
        "colab_type": "text"
      },
      "source": [
        "- image Recognition\n",
        "  - pixel(1x3) \n",
        "  - weight matrix(embedding of size 5) \n",
        "  - pixel@weight matrix => 3x5 matrix\n",
        "  - ReLu\n",
        "  - 5x8 matrix @ => ReLu \n",
        "  - 만약 digit recognition 중이라면\n",
        "  - final output을 size 10 으로 만들어낸다.\n",
        "  - 그리고 loss function으로 값을 계산해 최고 높은 확률 값을 가지는 것을 return한다.\n",
        "  \n"
      ]
    },
    {
      "cell_type": "markdown",
      "metadata": {
        "id": "iFKyXfeAGvsk",
        "colab_type": "text"
      },
      "source": [
        "- parameters : weight matrix\n",
        "- Activation : result of a calculatation(@ or activation function)\n",
        "- 모든 calculation 들은 neuralnet의 layer들이다.\n",
        "\n",
        "- collaborative filtering에서는 마지막 layer에 sigmoid activation function으로 처리하여 0,5 사이의 값으로 만든다. "
      ]
    },
    {
      "cell_type": "markdown",
      "metadata": {
        "id": "1nd4JaWHuey8",
        "colab_type": "text"
      },
      "source": [
        "## Movielens 100k"
      ]
    },
    {
      "cell_type": "markdown",
      "metadata": {
        "id": "QJ692uQ9uey9",
        "colab_type": "text"
      },
      "source": [
        "Let's try with the full Movielens 100k data dataset, available from http://files.grouplens.org/datasets/movielens/ml-100k.zip"
      ]
    },
    {
      "cell_type": "code",
      "metadata": {
        "id": "jS2f09tl9agW",
        "colab_type": "code",
        "colab": {
          "base_uri": "https://localhost:8080/",
          "height": 34
        },
        "outputId": "17e3bbf9-58ee-4bd7-e508-3344ddcc3182"
      },
      "source": [
        "from google.colab import drive\n",
        "drive.mount('/content/drive', force_remount=True)\n",
        "root_dir = '/content/drive/My Drive'\n",
        "base_dir = root_dir + '/fastai-v3/lesson5'"
      ],
      "execution_count": 58,
      "outputs": [
        {
          "output_type": "stream",
          "text": [
            "Mounted at /content/drive\n"
          ],
          "name": "stdout"
        }
      ]
    },
    {
      "cell_type": "code",
      "metadata": {
        "id": "E-Bo8XOCBMmQ",
        "colab_type": "code",
        "colab": {
          "base_uri": "https://localhost:8080/",
          "height": 34
        },
        "outputId": "3a0f5067-b3a5-44fb-a2ff-caf935d2eede"
      },
      "source": [
        "pwd"
      ],
      "execution_count": 59,
      "outputs": [
        {
          "output_type": "execute_result",
          "data": {
            "text/plain": [
              "'/content'"
            ]
          },
          "metadata": {
            "tags": []
          },
          "execution_count": 59
        }
      ]
    },
    {
      "cell_type": "code",
      "metadata": {
        "id": "UCw5CmxDuey-",
        "colab_type": "code",
        "colab": {
          "base_uri": "https://localhost:8080/",
          "height": 34
        },
        "outputId": "3fa62a58-34df-4f27-b635-ca05c3f7b404"
      },
      "source": [
        "path=Path(base_dir+'/ml-100k/')\n",
        "path"
      ],
      "execution_count": 60,
      "outputs": [
        {
          "output_type": "execute_result",
          "data": {
            "text/plain": [
              "PosixPath('/content/drive/My Drive/fastai-v3/lesson5/ml-100k')"
            ]
          },
          "metadata": {
            "tags": []
          },
          "execution_count": 60
        }
      ]
    },
    {
      "cell_type": "code",
      "metadata": {
        "id": "-OpV4otIuezB",
        "colab_type": "code",
        "outputId": "6b62c86f-6c47-4091-aba7-bff75b7a4a6a",
        "colab": {
          "base_uri": "https://localhost:8080/",
          "height": 204
        }
      },
      "source": [
        "ratings = pd.read_csv(path/'u.data', delimiter='\\t', header=None,\n",
        "                      names=[user,item,'rating','timestamp'])\n",
        "ratings.head()"
      ],
      "execution_count": 61,
      "outputs": [
        {
          "output_type": "execute_result",
          "data": {
            "text/html": [
              "<div>\n",
              "<style scoped>\n",
              "    .dataframe tbody tr th:only-of-type {\n",
              "        vertical-align: middle;\n",
              "    }\n",
              "\n",
              "    .dataframe tbody tr th {\n",
              "        vertical-align: top;\n",
              "    }\n",
              "\n",
              "    .dataframe thead th {\n",
              "        text-align: right;\n",
              "    }\n",
              "</style>\n",
              "<table border=\"1\" class=\"dataframe\">\n",
              "  <thead>\n",
              "    <tr style=\"text-align: right;\">\n",
              "      <th></th>\n",
              "      <th>userId</th>\n",
              "      <th>movieId</th>\n",
              "      <th>rating</th>\n",
              "      <th>timestamp</th>\n",
              "    </tr>\n",
              "  </thead>\n",
              "  <tbody>\n",
              "    <tr>\n",
              "      <th>0</th>\n",
              "      <td>196</td>\n",
              "      <td>242</td>\n",
              "      <td>3</td>\n",
              "      <td>881250949</td>\n",
              "    </tr>\n",
              "    <tr>\n",
              "      <th>1</th>\n",
              "      <td>186</td>\n",
              "      <td>302</td>\n",
              "      <td>3</td>\n",
              "      <td>891717742</td>\n",
              "    </tr>\n",
              "    <tr>\n",
              "      <th>2</th>\n",
              "      <td>22</td>\n",
              "      <td>377</td>\n",
              "      <td>1</td>\n",
              "      <td>878887116</td>\n",
              "    </tr>\n",
              "    <tr>\n",
              "      <th>3</th>\n",
              "      <td>244</td>\n",
              "      <td>51</td>\n",
              "      <td>2</td>\n",
              "      <td>880606923</td>\n",
              "    </tr>\n",
              "    <tr>\n",
              "      <th>4</th>\n",
              "      <td>166</td>\n",
              "      <td>346</td>\n",
              "      <td>1</td>\n",
              "      <td>886397596</td>\n",
              "    </tr>\n",
              "  </tbody>\n",
              "</table>\n",
              "</div>"
            ],
            "text/plain": [
              "   userId  movieId  rating  timestamp\n",
              "0     196      242       3  881250949\n",
              "1     186      302       3  891717742\n",
              "2      22      377       1  878887116\n",
              "3     244       51       2  880606923\n",
              "4     166      346       1  886397596"
            ]
          },
          "metadata": {
            "tags": []
          },
          "execution_count": 61
        }
      ]
    },
    {
      "cell_type": "code",
      "metadata": {
        "id": "SKqmIYIpuezE",
        "colab_type": "code",
        "outputId": "d396f16a-e924-4cbd-b96e-0e98f2b0724e",
        "colab": {
          "base_uri": "https://localhost:8080/",
          "height": 394
        }
      },
      "source": [
        "movies = pd.read_csv(path/'u.item',  delimiter='|', encoding='latin-1', header=None,\n",
        "                    names=[item, 'title', 'date', 'N', 'url', *[f'g{i}' for i in range(19)]])\n",
        "movies.head()"
      ],
      "execution_count": 62,
      "outputs": [
        {
          "output_type": "execute_result",
          "data": {
            "text/html": [
              "<div>\n",
              "<style scoped>\n",
              "    .dataframe tbody tr th:only-of-type {\n",
              "        vertical-align: middle;\n",
              "    }\n",
              "\n",
              "    .dataframe tbody tr th {\n",
              "        vertical-align: top;\n",
              "    }\n",
              "\n",
              "    .dataframe thead th {\n",
              "        text-align: right;\n",
              "    }\n",
              "</style>\n",
              "<table border=\"1\" class=\"dataframe\">\n",
              "  <thead>\n",
              "    <tr style=\"text-align: right;\">\n",
              "      <th></th>\n",
              "      <th>movieId</th>\n",
              "      <th>title</th>\n",
              "      <th>date</th>\n",
              "      <th>N</th>\n",
              "      <th>url</th>\n",
              "      <th>g0</th>\n",
              "      <th>g1</th>\n",
              "      <th>g2</th>\n",
              "      <th>g3</th>\n",
              "      <th>g4</th>\n",
              "      <th>g5</th>\n",
              "      <th>g6</th>\n",
              "      <th>g7</th>\n",
              "      <th>g8</th>\n",
              "      <th>g9</th>\n",
              "      <th>g10</th>\n",
              "      <th>g11</th>\n",
              "      <th>g12</th>\n",
              "      <th>g13</th>\n",
              "      <th>g14</th>\n",
              "      <th>g15</th>\n",
              "      <th>g16</th>\n",
              "      <th>g17</th>\n",
              "      <th>g18</th>\n",
              "    </tr>\n",
              "  </thead>\n",
              "  <tbody>\n",
              "    <tr>\n",
              "      <th>0</th>\n",
              "      <td>1</td>\n",
              "      <td>Toy Story (1995)</td>\n",
              "      <td>01-Jan-1995</td>\n",
              "      <td>NaN</td>\n",
              "      <td>http://us.imdb.com/M/title-exact?Toy%20Story%2...</td>\n",
              "      <td>0</td>\n",
              "      <td>0</td>\n",
              "      <td>0</td>\n",
              "      <td>1</td>\n",
              "      <td>1</td>\n",
              "      <td>1</td>\n",
              "      <td>0</td>\n",
              "      <td>0</td>\n",
              "      <td>0</td>\n",
              "      <td>0</td>\n",
              "      <td>0</td>\n",
              "      <td>0</td>\n",
              "      <td>0</td>\n",
              "      <td>0</td>\n",
              "      <td>0</td>\n",
              "      <td>0</td>\n",
              "      <td>0</td>\n",
              "      <td>0</td>\n",
              "      <td>0</td>\n",
              "    </tr>\n",
              "    <tr>\n",
              "      <th>1</th>\n",
              "      <td>2</td>\n",
              "      <td>GoldenEye (1995)</td>\n",
              "      <td>01-Jan-1995</td>\n",
              "      <td>NaN</td>\n",
              "      <td>http://us.imdb.com/M/title-exact?GoldenEye%20(...</td>\n",
              "      <td>0</td>\n",
              "      <td>1</td>\n",
              "      <td>1</td>\n",
              "      <td>0</td>\n",
              "      <td>0</td>\n",
              "      <td>0</td>\n",
              "      <td>0</td>\n",
              "      <td>0</td>\n",
              "      <td>0</td>\n",
              "      <td>0</td>\n",
              "      <td>0</td>\n",
              "      <td>0</td>\n",
              "      <td>0</td>\n",
              "      <td>0</td>\n",
              "      <td>0</td>\n",
              "      <td>0</td>\n",
              "      <td>1</td>\n",
              "      <td>0</td>\n",
              "      <td>0</td>\n",
              "    </tr>\n",
              "    <tr>\n",
              "      <th>2</th>\n",
              "      <td>3</td>\n",
              "      <td>Four Rooms (1995)</td>\n",
              "      <td>01-Jan-1995</td>\n",
              "      <td>NaN</td>\n",
              "      <td>http://us.imdb.com/M/title-exact?Four%20Rooms%...</td>\n",
              "      <td>0</td>\n",
              "      <td>0</td>\n",
              "      <td>0</td>\n",
              "      <td>0</td>\n",
              "      <td>0</td>\n",
              "      <td>0</td>\n",
              "      <td>0</td>\n",
              "      <td>0</td>\n",
              "      <td>0</td>\n",
              "      <td>0</td>\n",
              "      <td>0</td>\n",
              "      <td>0</td>\n",
              "      <td>0</td>\n",
              "      <td>0</td>\n",
              "      <td>0</td>\n",
              "      <td>0</td>\n",
              "      <td>1</td>\n",
              "      <td>0</td>\n",
              "      <td>0</td>\n",
              "    </tr>\n",
              "    <tr>\n",
              "      <th>3</th>\n",
              "      <td>4</td>\n",
              "      <td>Get Shorty (1995)</td>\n",
              "      <td>01-Jan-1995</td>\n",
              "      <td>NaN</td>\n",
              "      <td>http://us.imdb.com/M/title-exact?Get%20Shorty%...</td>\n",
              "      <td>0</td>\n",
              "      <td>1</td>\n",
              "      <td>0</td>\n",
              "      <td>0</td>\n",
              "      <td>0</td>\n",
              "      <td>1</td>\n",
              "      <td>0</td>\n",
              "      <td>0</td>\n",
              "      <td>1</td>\n",
              "      <td>0</td>\n",
              "      <td>0</td>\n",
              "      <td>0</td>\n",
              "      <td>0</td>\n",
              "      <td>0</td>\n",
              "      <td>0</td>\n",
              "      <td>0</td>\n",
              "      <td>0</td>\n",
              "      <td>0</td>\n",
              "      <td>0</td>\n",
              "    </tr>\n",
              "    <tr>\n",
              "      <th>4</th>\n",
              "      <td>5</td>\n",
              "      <td>Copycat (1995)</td>\n",
              "      <td>01-Jan-1995</td>\n",
              "      <td>NaN</td>\n",
              "      <td>http://us.imdb.com/M/title-exact?Copycat%20(1995)</td>\n",
              "      <td>0</td>\n",
              "      <td>0</td>\n",
              "      <td>0</td>\n",
              "      <td>0</td>\n",
              "      <td>0</td>\n",
              "      <td>0</td>\n",
              "      <td>1</td>\n",
              "      <td>0</td>\n",
              "      <td>1</td>\n",
              "      <td>0</td>\n",
              "      <td>0</td>\n",
              "      <td>0</td>\n",
              "      <td>0</td>\n",
              "      <td>0</td>\n",
              "      <td>0</td>\n",
              "      <td>0</td>\n",
              "      <td>1</td>\n",
              "      <td>0</td>\n",
              "      <td>0</td>\n",
              "    </tr>\n",
              "  </tbody>\n",
              "</table>\n",
              "</div>"
            ],
            "text/plain": [
              "   movieId              title         date   N  ... g15  g16  g17  g18\n",
              "0        1   Toy Story (1995)  01-Jan-1995 NaN  ...   0    0    0    0\n",
              "1        2   GoldenEye (1995)  01-Jan-1995 NaN  ...   0    1    0    0\n",
              "2        3  Four Rooms (1995)  01-Jan-1995 NaN  ...   0    1    0    0\n",
              "3        4  Get Shorty (1995)  01-Jan-1995 NaN  ...   0    0    0    0\n",
              "4        5     Copycat (1995)  01-Jan-1995 NaN  ...   0    1    0    0\n",
              "\n",
              "[5 rows x 24 columns]"
            ]
          },
          "metadata": {
            "tags": []
          },
          "execution_count": 62
        }
      ]
    },
    {
      "cell_type": "markdown",
      "metadata": {
        "id": "0mIUmcU9DyAK",
        "colab_type": "text"
      },
      "source": [
        "- one hot encoding으로 각 영화들이 다양한 장르를 가지고 있는 것을 알 수 있다."
      ]
    },
    {
      "cell_type": "code",
      "metadata": {
        "id": "KAYJQyLjuezJ",
        "colab_type": "code",
        "outputId": "b8634446-2c48-4fd5-fa47-677d2baae015",
        "colab": {
          "base_uri": "https://localhost:8080/",
          "height": 34
        }
      },
      "source": [
        "len(ratings)"
      ],
      "execution_count": 63,
      "outputs": [
        {
          "output_type": "execute_result",
          "data": {
            "text/plain": [
              "100000"
            ]
          },
          "metadata": {
            "tags": []
          },
          "execution_count": 63
        }
      ]
    },
    {
      "cell_type": "code",
      "metadata": {
        "id": "1ri6w88nuezN",
        "colab_type": "code",
        "outputId": "796f7e9d-1722-4bfb-c059-eb512219a4a7",
        "colab": {
          "base_uri": "https://localhost:8080/",
          "height": 204
        }
      },
      "source": [
        "rating_movie = ratings.merge(movies[[item, title]])\n",
        "rating_movie.head()"
      ],
      "execution_count": 64,
      "outputs": [
        {
          "output_type": "execute_result",
          "data": {
            "text/html": [
              "<div>\n",
              "<style scoped>\n",
              "    .dataframe tbody tr th:only-of-type {\n",
              "        vertical-align: middle;\n",
              "    }\n",
              "\n",
              "    .dataframe tbody tr th {\n",
              "        vertical-align: top;\n",
              "    }\n",
              "\n",
              "    .dataframe thead th {\n",
              "        text-align: right;\n",
              "    }\n",
              "</style>\n",
              "<table border=\"1\" class=\"dataframe\">\n",
              "  <thead>\n",
              "    <tr style=\"text-align: right;\">\n",
              "      <th></th>\n",
              "      <th>userId</th>\n",
              "      <th>movieId</th>\n",
              "      <th>rating</th>\n",
              "      <th>timestamp</th>\n",
              "      <th>title</th>\n",
              "    </tr>\n",
              "  </thead>\n",
              "  <tbody>\n",
              "    <tr>\n",
              "      <th>0</th>\n",
              "      <td>196</td>\n",
              "      <td>242</td>\n",
              "      <td>3</td>\n",
              "      <td>881250949</td>\n",
              "      <td>Kolya (1996)</td>\n",
              "    </tr>\n",
              "    <tr>\n",
              "      <th>1</th>\n",
              "      <td>63</td>\n",
              "      <td>242</td>\n",
              "      <td>3</td>\n",
              "      <td>875747190</td>\n",
              "      <td>Kolya (1996)</td>\n",
              "    </tr>\n",
              "    <tr>\n",
              "      <th>2</th>\n",
              "      <td>226</td>\n",
              "      <td>242</td>\n",
              "      <td>5</td>\n",
              "      <td>883888671</td>\n",
              "      <td>Kolya (1996)</td>\n",
              "    </tr>\n",
              "    <tr>\n",
              "      <th>3</th>\n",
              "      <td>154</td>\n",
              "      <td>242</td>\n",
              "      <td>3</td>\n",
              "      <td>879138235</td>\n",
              "      <td>Kolya (1996)</td>\n",
              "    </tr>\n",
              "    <tr>\n",
              "      <th>4</th>\n",
              "      <td>306</td>\n",
              "      <td>242</td>\n",
              "      <td>5</td>\n",
              "      <td>876503793</td>\n",
              "      <td>Kolya (1996)</td>\n",
              "    </tr>\n",
              "  </tbody>\n",
              "</table>\n",
              "</div>"
            ],
            "text/plain": [
              "   userId  movieId  rating  timestamp         title\n",
              "0     196      242       3  881250949  Kolya (1996)\n",
              "1      63      242       3  875747190  Kolya (1996)\n",
              "2     226      242       5  883888671  Kolya (1996)\n",
              "3     154      242       3  879138235  Kolya (1996)\n",
              "4     306      242       5  876503793  Kolya (1996)"
            ]
          },
          "metadata": {
            "tags": []
          },
          "execution_count": 64
        }
      ]
    },
    {
      "cell_type": "code",
      "metadata": {
        "id": "JRQmmQduuezQ",
        "colab_type": "code",
        "colab": {}
      },
      "source": [
        "data = CollabDataBunch.from_df(rating_movie, seed=42, valid_pct=0.1, item_name=title)\n",
        "#rating_movie의 dataframe을 가져와, validation set 을 10%로 지정해 따로 때놓는다. \n",
        "#default로, user, item, rating 을 가정해서 받지만, 이번에는 item을 따로 title로 지정해주었다."
      ],
      "execution_count": 0,
      "outputs": []
    },
    {
      "cell_type": "code",
      "metadata": {
        "id": "G7abTaQnuezS",
        "colab_type": "code",
        "outputId": "872eadb5-51e2-4c4d-8736-31e40ce5688a",
        "colab": {
          "base_uri": "https://localhost:8080/",
          "height": 204
        }
      },
      "source": [
        "data.show_batch()"
      ],
      "execution_count": 66,
      "outputs": [
        {
          "output_type": "display_data",
          "data": {
            "text/html": [
              "<table border=\"1\" class=\"dataframe\">\n",
              "  <thead>\n",
              "    <tr style=\"text-align: right;\">\n",
              "      <th>userId</th>\n",
              "      <th>title</th>\n",
              "      <th>target</th>\n",
              "    </tr>\n",
              "  </thead>\n",
              "  <tbody>\n",
              "    <tr>\n",
              "      <td>58</td>\n",
              "      <td>Rainmaker, The (1997)</td>\n",
              "      <td>4.0</td>\n",
              "    </tr>\n",
              "    <tr>\n",
              "      <td>562</td>\n",
              "      <td>Like Water For Chocolate (Como agua para chocolate) (1992)</td>\n",
              "      <td>5.0</td>\n",
              "    </tr>\n",
              "    <tr>\n",
              "      <td>791</td>\n",
              "      <td>Sense and Sensibility (1995)</td>\n",
              "      <td>5.0</td>\n",
              "    </tr>\n",
              "    <tr>\n",
              "      <td>342</td>\n",
              "      <td>One Fine Day (1996)</td>\n",
              "      <td>4.0</td>\n",
              "    </tr>\n",
              "    <tr>\n",
              "      <td>394</td>\n",
              "      <td>Frighteners, The (1996)</td>\n",
              "      <td>5.0</td>\n",
              "    </tr>\n",
              "  </tbody>\n",
              "</table>"
            ],
            "text/plain": [
              "<IPython.core.display.HTML object>"
            ]
          },
          "metadata": {
            "tags": []
          }
        }
      ]
    },
    {
      "cell_type": "code",
      "metadata": {
        "id": "LBqDL5r4uezU",
        "colab_type": "code",
        "colab": {}
      },
      "source": [
        "y_range = [0,5.5]\n",
        "# final activation function 값(예측값)의 범위를 지정해준다.\n",
        "# Now the problem is that a sigmoid actually asymptotes at whatever the maximum is (we said 5) which means you can never actually predict 5. But plenty of movies have a rating of 5, so that's a problem. So actually it's slightly better to make your Y range go from a little bit less than the minimum to a little bit more than the maximum. "
      ],
      "execution_count": 0,
      "outputs": []
    },
    {
      "cell_type": "code",
      "metadata": {
        "id": "QjuvXN-XuezW",
        "colab_type": "code",
        "colab": {}
      },
      "source": [
        "learn = collab_learner(data, n_factors=40, y_range=y_range, wd=1e-1)"
      ],
      "execution_count": 0,
      "outputs": []
    },
    {
      "cell_type": "markdown",
      "metadata": {
        "id": "b9wxJjNNGeX7",
        "colab_type": "text"
      },
      "source": [
        "- factor의 갯수 : the width of the embedding matrix \n",
        "- collaborative filtering에서는 embedding size라는 표현보다는 factors라는 표현을 쓴다. 이는 latent factors라는 아이디어를 이용하기 때문이다. 이를 matrix factorization라고 한다.\n",
        "- 40인 이유는 가장 잘 작동하는 architectural decision(경험적)\n"
      ]
    },
    {
      "cell_type": "code",
      "metadata": {
        "id": "_WFCJIBkuezZ",
        "colab_type": "code",
        "outputId": "78cb6d5d-5f89-4b84-c38b-3da63b6e694d",
        "colab": {
          "base_uri": "https://localhost:8080/",
          "height": 394
        }
      },
      "source": [
        "learn.lr_find()\n",
        "learn.recorder.plot(skip_end=15)"
      ],
      "execution_count": 69,
      "outputs": [
        {
          "output_type": "display_data",
          "data": {
            "text/html": [
              "\n",
              "    <div>\n",
              "        <style>\n",
              "            /* Turns off some styling */\n",
              "            progress {\n",
              "                /* gets rid of default border in Firefox and Opera. */\n",
              "                border: none;\n",
              "                /* Needs to be in here for Safari polyfill so background images work as expected. */\n",
              "                background-size: auto;\n",
              "            }\n",
              "            .progress-bar-interrupted, .progress-bar-interrupted::-webkit-progress-bar {\n",
              "                background: #F44336;\n",
              "            }\n",
              "        </style>\n",
              "      <progress value='0' class='' max='1' style='width:300px; height:20px; vertical-align: middle;'></progress>\n",
              "      0.00% [0/1 00:00<00:00]\n",
              "    </div>\n",
              "    \n",
              "<table border=\"1\" class=\"dataframe\">\n",
              "  <thead>\n",
              "    <tr style=\"text-align: left;\">\n",
              "      <th>epoch</th>\n",
              "      <th>train_loss</th>\n",
              "      <th>valid_loss</th>\n",
              "      <th>time</th>\n",
              "    </tr>\n",
              "  </thead>\n",
              "  <tbody>\n",
              "  </tbody>\n",
              "</table><p>\n",
              "\n",
              "    <div>\n",
              "        <style>\n",
              "            /* Turns off some styling */\n",
              "            progress {\n",
              "                /* gets rid of default border in Firefox and Opera. */\n",
              "                border: none;\n",
              "                /* Needs to be in here for Safari polyfill so background images work as expected. */\n",
              "                background-size: auto;\n",
              "            }\n",
              "            .progress-bar-interrupted, .progress-bar-interrupted::-webkit-progress-bar {\n",
              "                background: #F44336;\n",
              "            }\n",
              "        </style>\n",
              "      <progress value='78' class='' max='1406' style='width:300px; height:20px; vertical-align: middle;'></progress>\n",
              "      5.55% [78/1406 00:00<00:08 1.7827]\n",
              "    </div>\n",
              "    "
            ],
            "text/plain": [
              "<IPython.core.display.HTML object>"
            ]
          },
          "metadata": {
            "tags": []
          }
        },
        {
          "output_type": "stream",
          "text": [
            "LR Finder is complete, type {learner_name}.recorder.plot() to see the graph.\n"
          ],
          "name": "stdout"
        },
        {
          "output_type": "display_data",
          "data": {
            "image/png": "[encoded data removed]",
            "text/plain": [
              "<Figure size 432x288 with 1 Axes>"
            ]
          },
          "metadata": {
            "tags": [],
            "needs_background": "light"
          }
        }
      ]
    },
    {
      "cell_type": "markdown",
      "metadata": {
        "id": "npcMq-egIkwN",
        "colab_type": "text"
      },
      "source": [
        "- lr 을 정하는 rule of thumb\n",
        "  - Sylvain : find the bottm and go back by ten -> 여기서는 2e-01(bottom) 0.1배는 2e-02\n",
        "  - Jeremy : 가장 steepest section -> 여기서는 2e-02"
      ]
    },
    {
      "cell_type": "code",
      "metadata": {
        "id": "C7rbJp-Nueze",
        "colab_type": "code",
        "outputId": "8135c541-5432-4b0a-9c21-7b0529ad0445",
        "colab": {
          "base_uri": "https://localhost:8080/",
          "height": 204
        }
      },
      "source": [
        "learn.fit_one_cycle(5, 5e-3)"
      ],
      "execution_count": 70,
      "outputs": [
        {
          "output_type": "display_data",
          "data": {
            "text/html": [
              "<table border=\"1\" class=\"dataframe\">\n",
              "  <thead>\n",
              "    <tr style=\"text-align: left;\">\n",
              "      <th>epoch</th>\n",
              "      <th>train_loss</th>\n",
              "      <th>valid_loss</th>\n",
              "      <th>time</th>\n",
              "    </tr>\n",
              "  </thead>\n",
              "  <tbody>\n",
              "    <tr>\n",
              "      <td>0</td>\n",
              "      <td>0.944782</td>\n",
              "      <td>0.954979</td>\n",
              "      <td>00:08</td>\n",
              "    </tr>\n",
              "    <tr>\n",
              "      <td>1</td>\n",
              "      <td>0.859772</td>\n",
              "      <td>0.881829</td>\n",
              "      <td>00:08</td>\n",
              "    </tr>\n",
              "    <tr>\n",
              "      <td>2</td>\n",
              "      <td>0.771115</td>\n",
              "      <td>0.834648</td>\n",
              "      <td>00:09</td>\n",
              "    </tr>\n",
              "    <tr>\n",
              "      <td>3</td>\n",
              "      <td>0.636313</td>\n",
              "      <td>0.811730</td>\n",
              "      <td>00:09</td>\n",
              "    </tr>\n",
              "    <tr>\n",
              "      <td>4</td>\n",
              "      <td>0.531139</td>\n",
              "      <td>0.812350</td>\n",
              "      <td>00:08</td>\n",
              "    </tr>\n",
              "  </tbody>\n",
              "</table>"
            ],
            "text/plain": [
              "<IPython.core.display.HTML object>"
            ]
          },
          "metadata": {
            "tags": []
          }
        }
      ]
    },
    {
      "cell_type": "code",
      "metadata": {
        "id": "sntbURBSuezh",
        "colab_type": "code",
        "colab": {}
      },
      "source": [
        "learn.save('dotprod')"
      ],
      "execution_count": 0,
      "outputs": []
    },
    {
      "cell_type": "markdown",
      "metadata": {
        "id": "QC2uagAkuezj",
        "colab_type": "text"
      },
      "source": [
        "Here's [some benchmarks](https://www.librec.net/release/v1.3/example.html) on the same dataset for the popular Librec system for collaborative filtering. They show best results based on RMSE of 0.91, which corresponds to an MSE of `0.91**2 = 0.83`."
      ]
    },
    {
      "cell_type": "markdown",
      "metadata": {
        "id": "QZH-9iw1uezk",
        "colab_type": "text"
      },
      "source": [
        "## Interpretation"
      ]
    },
    {
      "cell_type": "markdown",
      "metadata": {
        "id": "wjv_4yB_KVit",
        "colab_type": "text"
      },
      "source": [
        "- anime를 좋아하는 사람들의 anime에 대한 bias를 알기\n",
        "  - So how do we deal with that? Well the nice thing is that instead if we look at the movie bias, once we've included the user bias (which for an anime lover might be a very high number because they're just rating a lot of movies highly) and once we account for the specifics of this kind of movie (which again might be people love anime), what's left over is something specific to that movie itself. So it's kind of interesting to look at movie bias numbers as a way of saying what are the best movies or what do people really like as movies even if those people don't rate movies very highly or even if that movie doesn't have the kind of features that people tend to rate highly. So it's kind of nice, it's funny to say this 😆, by using the bias, we get an unbiased movie score.\n",
        "  \n",
        "  - bias들을 이용해, 오히려 unbiased movie score를 만든다."
      ]
    },
    {
      "cell_type": "markdown",
      "metadata": {
        "id": "cseYlFWnuezk",
        "colab_type": "text"
      },
      "source": [
        "### Setup"
      ]
    },
    {
      "cell_type": "code",
      "metadata": {
        "id": "o6x3dKLQuezl",
        "colab_type": "code",
        "colab": {}
      },
      "source": [
        "learn.load('dotprod');"
      ],
      "execution_count": 0,
      "outputs": []
    },
    {
      "cell_type": "code",
      "metadata": {
        "id": "PK7Dx0fduezm",
        "colab_type": "code",
        "outputId": "3f3cd931-7d9f-49f0-cea3-3dd2c4d2eba3",
        "colab": {
          "base_uri": "https://localhost:8080/",
          "height": 119
        }
      },
      "source": [
        "learn.model"
      ],
      "execution_count": 73,
      "outputs": [
        {
          "output_type": "execute_result",
          "data": {
            "text/plain": [
              "EmbeddingDotBias(\n",
              "  (u_weight): Embedding(944, 40)\n",
              "  (i_weight): Embedding(1654, 40)\n",
              "  (u_bias): Embedding(944, 1)\n",
              "  (i_bias): Embedding(1654, 1)\n",
              ")"
            ]
          },
          "metadata": {
            "tags": []
          },
          "execution_count": 73
        }
      ]
    },
    {
      "cell_type": "code",
      "metadata": {
        "id": "JMGEQqoEuezo",
        "colab_type": "code",
        "outputId": "1f4824c0-20e4-413c-ed07-44c590a1bed4",
        "colab": {
          "base_uri": "https://localhost:8080/",
          "height": 88
        }
      },
      "source": [
        "g = rating_movie.groupby(title)['rating'].count()\n",
        "top_movies = g.sort_values(ascending=False).index.values[:1000]\n",
        "top_movies[:10]\n",
        "#rating_movie들을 'rating'을 기준으로\n",
        "#높은순서대로 sort하고, 1000개를 뽑는다.\n",
        "#그 중 10개를 보자."
      ],
      "execution_count": 74,
      "outputs": [
        {
          "output_type": "execute_result",
          "data": {
            "text/plain": [
              "array(['Star Wars (1977)', 'Contact (1997)', 'Fargo (1996)', 'Return of the Jedi (1983)', 'Liar Liar (1997)',\n",
              "       'English Patient, The (1996)', 'Scream (1996)', 'Toy Story (1995)', 'Air Force One (1997)',\n",
              "       'Independence Day (ID4) (1996)'], dtype=object)"
            ]
          },
          "metadata": {
            "tags": []
          },
          "execution_count": 74
        }
      ]
    },
    {
      "cell_type": "markdown",
      "metadata": {
        "id": "w05EYMkquezq",
        "colab_type": "text"
      },
      "source": [
        "### Movie bias"
      ]
    },
    {
      "cell_type": "code",
      "metadata": {
        "id": "esZL8C21uezr",
        "colab_type": "code",
        "outputId": "3205293d-1bd8-4fda-c195-874a8c3cba3f",
        "colab": {
          "base_uri": "https://localhost:8080/",
          "height": 34
        }
      },
      "source": [
        "movie_bias = learn.bias(top_movies, is_item=True)\n",
        "movie_bias.shape\n",
        "\n",
        "#We can then take our learner that we trained and asked it for the bias of the items listed here\n"
      ],
      "execution_count": 75,
      "outputs": [
        {
          "output_type": "execute_result",
          "data": {
            "text/plain": [
              "torch.Size([1000])"
            ]
          },
          "metadata": {
            "tags": []
          },
          "execution_count": 75
        }
      ]
    },
    {
      "cell_type": "code",
      "metadata": {
        "id": "V2wqbaeJuezt",
        "colab_type": "code",
        "colab": {}
      },
      "source": [
        "mean_ratings = rating_movie.groupby(title)['rating'].mean()\n",
        "movie_ratings = [(b, i, mean_ratings.loc[i]) for i,b in zip(top_movies,movie_bias)]"
      ],
      "execution_count": 0,
      "outputs": []
    },
    {
      "cell_type": "code",
      "metadata": {
        "id": "EKHdJY4Puezv",
        "colab_type": "code",
        "colab": {}
      },
      "source": [
        "item0 = lambda o:o[0]\n",
        "#bias로 indexing하기 위해"
      ],
      "execution_count": 0,
      "outputs": []
    },
    {
      "cell_type": "code",
      "metadata": {
        "id": "FPP2by80uezw",
        "colab_type": "code",
        "outputId": "edc09b00-cf1b-409e-bf7c-b18ffbe1d24c",
        "colab": {
          "base_uri": "https://localhost:8080/",
          "height": 360
        }
      },
      "source": [
        "sorted(movie_ratings, key=item0)[:15]"
      ],
      "execution_count": 79,
      "outputs": [
        {
          "output_type": "execute_result",
          "data": {
            "text/plain": [
              "[(tensor(-0.3431),\n",
              "  'Children of the Corn: The Gathering (1996)',\n",
              "  1.3157894736842106),\n",
              " (tensor(-0.3045), 'Mortal Kombat: Annihilation (1997)', 1.9534883720930232),\n",
              " (tensor(-0.2906),\n",
              "  'Lawnmower Man 2: Beyond Cyberspace (1996)',\n",
              "  1.7142857142857142),\n",
              " (tensor(-0.2672), 'Barb Wire (1996)', 1.9333333333333333),\n",
              " (tensor(-0.2482), 'Crow: City of Angels, The (1996)', 1.9487179487179487),\n",
              " (tensor(-0.2452), 'Striptease (1996)', 2.2388059701492535),\n",
              " (tensor(-0.2435), 'Cable Guy, The (1996)', 2.339622641509434),\n",
              " (tensor(-0.2359), 'Grease 2 (1982)', 2.0),\n",
              " (tensor(-0.2344), 'Tales from the Hood (1995)', 2.037037037037037),\n",
              " (tensor(-0.2339), 'Free Willy 3: The Rescue (1997)', 1.7407407407407407),\n",
              " (tensor(-0.2327), 'Bio-Dome (1996)', 1.903225806451613),\n",
              " (tensor(-0.2274), \"Joe's Apartment (1996)\", 2.2444444444444445),\n",
              " (tensor(-0.2254), 'Showgirls (1995)', 1.9565217391304348),\n",
              " (tensor(-0.2194), 'Island of Dr. Moreau, The (1996)', 2.1578947368421053),\n",
              " (tensor(-0.2177), 'Beautician and the Beast, The (1997)', 2.313953488372093)]"
            ]
          },
          "metadata": {
            "tags": []
          },
          "execution_count": 79
        }
      ]
    },
    {
      "cell_type": "code",
      "metadata": {
        "id": "_ZeS6XZBuezz",
        "colab_type": "code",
        "outputId": "df0e818c-dbbc-4d5b-cf0d-49e06ae0e8e5",
        "colab": {
          "base_uri": "https://localhost:8080/",
          "height": 272
        }
      },
      "source": [
        "sorted(movie_ratings, key=lambda o: o[0], reverse=True)[:15]"
      ],
      "execution_count": 78,
      "outputs": [
        {
          "output_type": "execute_result",
          "data": {
            "text/plain": [
              "[(tensor(0.6277), \"Schindler's List (1993)\", 4.466442953020135),\n",
              " (tensor(0.5563), 'Shawshank Redemption, The (1994)', 4.445229681978798),\n",
              " (tensor(0.5545), 'Titanic (1997)', 4.2457142857142856),\n",
              " (tensor(0.5543), 'Star Wars (1977)', 4.3584905660377355),\n",
              " (tensor(0.5328), 'As Good As It Gets (1997)', 4.196428571428571),\n",
              " (tensor(0.5323), 'Rear Window (1954)', 4.3875598086124405),\n",
              " (tensor(0.5286), 'L.A. Confidential (1997)', 4.161616161616162),\n",
              " (tensor(0.5108), 'Silence of the Lambs, The (1991)', 4.28974358974359),\n",
              " (tensor(0.4965), 'Good Will Hunting (1997)', 4.262626262626263),\n",
              " (tensor(0.4914), 'Casablanca (1942)', 4.45679012345679),\n",
              " (tensor(0.4792), 'Boot, Das (1981)', 4.203980099502488),\n",
              " (tensor(0.4779), 'Usual Suspects, The (1995)', 4.385767790262173),\n",
              " (tensor(0.4757), 'Godfather, The (1972)', 4.283292978208232),\n",
              " (tensor(0.4520), 'Apt Pupil (1998)', 4.1),\n",
              " (tensor(0.4510), 'North by Northwest (1959)', 4.284916201117318)]"
            ]
          },
          "metadata": {
            "tags": []
          },
          "execution_count": 78
        }
      ]
    },
    {
      "cell_type": "markdown",
      "metadata": {
        "id": "H4iDbRffuez1",
        "colab_type": "text"
      },
      "source": [
        "### Movie weights"
      ]
    },
    {
      "cell_type": "code",
      "metadata": {
        "id": "Ttvo_VJ4uez2",
        "colab_type": "code",
        "outputId": "ff7ad69e-30af-4ce8-81e6-ab280d51197c",
        "colab": {
          "base_uri": "https://localhost:8080/",
          "height": 34
        }
      },
      "source": [
        "movie_w = learn.weight(top_movies, is_item=True)\n",
        "movie_w.shape"
      ],
      "execution_count": 80,
      "outputs": [
        {
          "output_type": "execute_result",
          "data": {
            "text/plain": [
              "torch.Size([1000, 40])"
            ]
          },
          "metadata": {
            "tags": []
          },
          "execution_count": 80
        }
      ]
    },
    {
      "cell_type": "code",
      "metadata": {
        "id": "kjoi4jWnuez4",
        "colab_type": "code",
        "outputId": "2d88cdd7-de5f-4b88-c03b-8b1f6c9737e5",
        "colab": {
          "base_uri": "https://localhost:8080/",
          "height": 34
        }
      },
      "source": [
        "movie_pca = movie_w.pca(3)\n",
        "movie_pca.shape\n",
        "#movie_w라는 torch tensor에 pca method를 붙인다."
      ],
      "execution_count": 81,
      "outputs": [
        {
          "output_type": "execute_result",
          "data": {
            "text/plain": [
              "torch.Size([1000, 3])"
            ]
          },
          "metadata": {
            "tags": []
          },
          "execution_count": 81
        }
      ]
    },
    {
      "cell_type": "markdown",
      "metadata": {
        "id": "nM4YxpdleSmv",
        "colab_type": "text"
      },
      "source": [
        "- Principal Components Analysis :  simple linear transformation that takes an input matrix and tries to find a smaller number of columns that cover a lot of the space of that original matrix.\n",
        "- 40개의 factors(embedding 값들)을 핵심 3개로 추린다."
      ]
    },
    {
      "cell_type": "code",
      "metadata": {
        "id": "o8OAdAuiuez6",
        "colab_type": "code",
        "colab": {}
      },
      "source": [
        "fac0,fac1,fac2 = movie_pca.t()\n",
        "movie_comp = [(f, i) for f,i in zip(fac0, top_movies)]"
      ],
      "execution_count": 0,
      "outputs": []
    },
    {
      "cell_type": "code",
      "metadata": {
        "id": "DFa3yPjauez7",
        "colab_type": "code",
        "outputId": "a9bdcf2a-4a0f-4139-b0b9-3472042d847b",
        "colab": {
          "base_uri": "https://localhost:8080/",
          "height": 187
        }
      },
      "source": [
        "sorted(movie_comp, key=itemgetter(0), reverse=True)[:10]"
      ],
      "execution_count": 83,
      "outputs": [
        {
          "output_type": "execute_result",
          "data": {
            "text/plain": [
              "[(tensor(1.2983), 'Home Alone 3 (1997)'),\n",
              " (tensor(1.2686), \"McHale's Navy (1997)\"),\n",
              " (tensor(1.2395), 'Jungle2Jungle (1997)'),\n",
              " (tensor(1.1264), 'D3: The Mighty Ducks (1996)'),\n",
              " (tensor(1.1240), 'Leave It to Beaver (1997)'),\n",
              " (tensor(1.1215), 'Bio-Dome (1996)'),\n",
              " (tensor(1.1056), 'Children of the Corn: The Gathering (1996)'),\n",
              " (tensor(1.0839), 'Homeward Bound II: Lost in San Francisco (1996)'),\n",
              " (tensor(1.0566), 'Congo (1995)'),\n",
              " (tensor(1.0515), 'Speed 2: Cruise Control (1997)')]"
            ]
          },
          "metadata": {
            "tags": []
          },
          "execution_count": 83
        }
      ]
    },
    {
      "cell_type": "code",
      "metadata": {
        "id": "2C7Bx4oZuez9",
        "colab_type": "code",
        "outputId": "2973ed6d-15f4-4a61-923e-6fcd9b576e86",
        "colab": {
          "base_uri": "https://localhost:8080/",
          "height": 224
        }
      },
      "source": [
        "sorted(movie_comp, key=itemgetter(0))[:10]"
      ],
      "execution_count": 84,
      "outputs": [
        {
          "output_type": "execute_result",
          "data": {
            "text/plain": [
              "[(tensor(-1.1792), 'Wrong Trousers, The (1993)'),\n",
              " (tensor(-1.1098), 'Close Shave, A (1995)'),\n",
              " (tensor(-1.0482), 'Third Man, The (1949)'),\n",
              " (tensor(-1.0281), 'Lawrence of Arabia (1962)'),\n",
              " (tensor(-0.9832), 'Casablanca (1942)'),\n",
              " (tensor(-0.9819),\n",
              "  'Dr. Strangelove or: How I Learned to Stop Worrying and Love the Bomb (1963)'),\n",
              " (tensor(-0.9813), 'Secrets & Lies (1996)'),\n",
              " (tensor(-0.9643), 'Chinatown (1974)'),\n",
              " (tensor(-0.9553), 'North by Northwest (1959)'),\n",
              " (tensor(-0.9510), 'Fargo (1996)')]"
            ]
          },
          "metadata": {
            "tags": []
          },
          "execution_count": 84
        }
      ]
    },
    {
      "cell_type": "code",
      "metadata": {
        "id": "ZkBHw8WFuez_",
        "colab_type": "code",
        "colab": {}
      },
      "source": [
        "movie_comp = [(f, i) for f,i in zip(fac1, top_movies)]"
      ],
      "execution_count": 0,
      "outputs": []
    },
    {
      "cell_type": "code",
      "metadata": {
        "id": "ZiTyIoK-ue0B",
        "colab_type": "code",
        "outputId": "c50595d5-fc57-4c83-c91d-7dcbac3ed2ea",
        "colab": {
          "base_uri": "https://localhost:8080/",
          "height": 187
        }
      },
      "source": [
        "sorted(movie_comp, key=itemgetter(0), reverse=True)[:10]"
      ],
      "execution_count": 86,
      "outputs": [
        {
          "output_type": "execute_result",
          "data": {
            "text/plain": [
              "[(tensor(1.2226), 'Raiders of the Lost Ark (1981)'),\n",
              " (tensor(1.1524), 'Braveheart (1995)'),\n",
              " (tensor(1.0706), 'Titanic (1997)'),\n",
              " (tensor(0.9001), 'Return of the Jedi (1983)'),\n",
              " (tensor(0.8899), \"It's a Wonderful Life (1946)\"),\n",
              " (tensor(0.8848), 'Hunt for Red October, The (1990)'),\n",
              " (tensor(0.8669), 'Star Wars (1977)'),\n",
              " (tensor(0.8621), 'Indiana Jones and the Last Crusade (1989)'),\n",
              " (tensor(0.8518), 'Back to the Future (1985)'),\n",
              " (tensor(0.8517), 'Independence Day (ID4) (1996)')]"
            ]
          },
          "metadata": {
            "tags": []
          },
          "execution_count": 86
        }
      ]
    },
    {
      "cell_type": "code",
      "metadata": {
        "id": "9ufJmq_8ue0D",
        "colab_type": "code",
        "outputId": "7ab4c09b-7552-4857-906a-96e010d1364a",
        "colab": {
          "base_uri": "https://localhost:8080/",
          "height": 207
        }
      },
      "source": [
        "sorted(movie_comp, key=itemgetter(0))[:10]"
      ],
      "execution_count": 87,
      "outputs": [
        {
          "output_type": "execute_result",
          "data": {
            "text/plain": [
              "[(tensor(-0.8408), 'Keys to Tulsa (1997)'),\n",
              " (tensor(-0.8272), 'Trainspotting (1996)'),\n",
              " (tensor(-0.8053), 'Jude (1996)'),\n",
              " (tensor(-0.7784), 'Nosferatu (Nosferatu, eine Symphonie des Grauens) (1922)'),\n",
              " (tensor(-0.7700), 'Serial Mom (1994)'),\n",
              " (tensor(-0.7626), 'Dead Man (1995)'),\n",
              " (tensor(-0.7476), 'Ready to Wear (Pret-A-Porter) (1994)'),\n",
              " (tensor(-0.7369), 'Sweet Hereafter, The (1997)'),\n",
              " (tensor(-0.7296), 'Road to Wellville, The (1994)'),\n",
              " (tensor(-0.7288), 'Boogie Nights (1997)')]"
            ]
          },
          "metadata": {
            "tags": []
          },
          "execution_count": 87
        }
      ]
    },
    {
      "cell_type": "code",
      "metadata": {
        "id": "LsaeGZgHue0E",
        "colab_type": "code",
        "outputId": "c52cdc98-d7a2-4df9-f920-e60a9468a5bf",
        "colab": {
          "base_uri": "https://localhost:8080/",
          "height": 581
        }
      },
      "source": [
        "idxs = np.random.choice(len(top_movies), 50, replace=False)\n",
        "idxs = list(range(50))\n",
        "X = fac0[idxs]\n",
        "Y = fac2[idxs]\n",
        "plt.figure(figsize=(15,15))\n",
        "plt.scatter(X, Y)\n",
        "for i, x, y in zip(top_movies[idxs], X, Y):\n",
        "    plt.text(x,y,i, color=np.random.rand(3)*0.7, fontsize=11)\n",
        "plt.show()"
      ],
      "execution_count": 88,
      "outputs": [
        {
          "output_type": "display_data",
          "data": {
            "image/png": "[encoded data removed]",
            "text/plain": [
              "<Figure size 1080x1080 with 1 Axes>"
            ]
          },
          "metadata": {
            "tags": [],
            "needs_background": "light"
          }
        }
      ]
    },
    {
      "cell_type": "code",
      "metadata": {
        "id": "xt8aA3nBue0H",
        "colab_type": "code",
        "colab": {}
      },
      "source": [
        ""
      ],
      "execution_count": 0,
      "outputs": []
    }
  ]
}