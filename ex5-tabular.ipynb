{
  "nbformat": 4,
  "nbformat_minor": 0,
  "metadata": {
    "kernelspec": {
      "name": "python3",
      "display_name": "Python 3"
    },
    "colab": {
      "name": "lesson4-tabular.ipynb",
      "provenance": [],
      "include_colab_link": true
    },
    "accelerator": "GPU"
  },
  "cells": [
    {
      "cell_type": "markdown",
      "metadata": {
        "id": "view-in-github",
        "colab_type": "text"
      },
      "source": [
        "<a href=\"https://colab.research.google.com/github/wakii/ML_Programming/blob/master/ex5-tabular.ipynb\" target=\"_parent\"><img src=\"https://colab.research.google.com/assets/colab-badge.svg\" alt=\"Open In Colab\"/></a>"
      ]
    },
    {
      "cell_type": "markdown",
      "metadata": {
        "id": "Ww417BvpRQrn",
        "colab_type": "text"
      },
      "source": [
        "- learning rate의 magic number : 2.6^4 : slice는 가장 낮은 layer와 가장 높은 layer의 learning 차이다. : discriminative learning rates\n",
        "- NLP RNN에서는 2.6이 layer에서 layer로 증가할 때마다 줄어드는게 좋다.\n",
        "- randomforest : NLP classifier를 이용해 예측할 때 randomforest model을 사용하였는데, 이 때 optimal parameter(LR)로 2.6을 찾았다. \n",
        "\n"
      ]
    },
    {
      "cell_type": "markdown",
      "metadata": {
        "id": "NJ6Oa1ZoTO56",
        "colab_type": "text"
      },
      "source": [
        "- tabular data에도 neural net을 이용하는게 효과적이라는게 밝혀졌다.\n",
        "- engineering은 여전히 필요하지만 계속 simple 해졌으며, randomforest보다 neural net쓰는게 더 standard가 되었다.\n",
        "- fastai.tabular는 neuralnet을 tabular data 에 쉽게 적용할 수 있게 해준다. "
      ]
    },
    {
      "cell_type": "markdown",
      "metadata": {
        "id": "Zhb9s8k-C8_e",
        "colab_type": "text"
      },
      "source": [
        "# Tabular models"
      ]
    },
    {
      "cell_type": "code",
      "metadata": {
        "id": "xBiEikD9C8_g",
        "colab_type": "code",
        "colab": {}
      },
      "source": [
        "from fastai.tabular import *"
      ],
      "execution_count": 0,
      "outputs": []
    },
    {
      "cell_type": "markdown",
      "metadata": {
        "id": "0mFcGbkgC8_q",
        "colab_type": "text"
      },
      "source": [
        "Tabular data should be in a Pandas `DataFrame`."
      ]
    },
    {
      "cell_type": "code",
      "metadata": {
        "id": "houCl7Y7C8_t",
        "colab_type": "code",
        "colab": {}
      },
      "source": [
        "path = untar_data(URLs.ADULT_SAMPLE)\n",
        "df = pd.read_csv(path/'adult.csv')"
      ],
      "execution_count": 0,
      "outputs": []
    },
    {
      "cell_type": "code",
      "metadata": {
        "id": "T8sy6l1EBXyZ",
        "colab_type": "code",
        "colab": {
          "base_uri": "https://localhost:8080/",
          "height": 391
        },
        "outputId": "d5b7309a-2e95-48bf-d280-9e3d245ed24a"
      },
      "source": [
        "df.info()"
      ],
      "execution_count": 8,
      "outputs": [
        {
          "output_type": "stream",
          "text": [
            "<class 'pandas.core.frame.DataFrame'>\n",
            "RangeIndex: 32561 entries, 0 to 32560\n",
            "Data columns (total 15 columns):\n",
            " #   Column          Non-Null Count  Dtype  \n",
            "---  ------          --------------  -----  \n",
            " 0   age             32561 non-null  int64  \n",
            " 1   workclass       32561 non-null  object \n",
            " 2   fnlwgt          32561 non-null  int64  \n",
            " 3   education       32561 non-null  object \n",
            " 4   education-num   32074 non-null  float64\n",
            " 5   marital-status  32561 non-null  object \n",
            " 6   occupation      32049 non-null  object \n",
            " 7   relationship    32561 non-null  object \n",
            " 8   race            32561 non-null  object \n",
            " 9   sex             32561 non-null  object \n",
            " 10  capital-gain    32561 non-null  int64  \n",
            " 11  capital-loss    32561 non-null  int64  \n",
            " 12  hours-per-week  32561 non-null  int64  \n",
            " 13  native-country  32561 non-null  object \n",
            " 14  salary          32561 non-null  object \n",
            "dtypes: float64(1), int64(5), object(9)\n",
            "memory usage: 3.7+ MB\n"
          ],
          "name": "stdout"
        }
      ]
    },
    {
      "cell_type": "code",
      "metadata": {
        "id": "qOQv-ZEVC8_0",
        "colab_type": "code",
        "colab": {}
      },
      "source": [
        "dep_var = 'salary'\n",
        "cat_names = ['workclass', 'education', 'marital-status', 'occupation', 'relationship', 'race']\n",
        "cont_names = ['age', 'fnlwgt', 'education-num']\n",
        "procs = [FillMissing, Categorify, Normalize]"
      ],
      "execution_count": 0,
      "outputs": []
    },
    {
      "cell_type": "code",
      "metadata": {
        "id": "-c7RwBnEC8_6",
        "colab_type": "code",
        "colab": {}
      },
      "source": [
        "test = TabularList.from_df(df.iloc[800:1000].copy(), path=path, cat_names=cat_names, cont_names=cont_names)"
      ],
      "execution_count": 0,
      "outputs": []
    },
    {
      "cell_type": "markdown",
      "metadata": {
        "id": "Spa-hyFALkpj",
        "colab_type": "text"
      },
      "source": [
        "- data block API 이용"
      ]
    },
    {
      "cell_type": "markdown",
      "metadata": {
        "id": "pG457QnvL4_O",
        "colab_type": "text"
      },
      "source": [
        "- `cat_names` : categorical variables\n",
        "- `cont-names` : continuous variables\n"
      ]
    },
    {
      "cell_type": "markdown",
      "metadata": {
        "id": "AcyKi3wINh1Y",
        "colab_type": "text"
      },
      "source": [
        "- 여기까지가 preprocessing"
      ]
    },
    {
      "cell_type": "markdown",
      "metadata": {
        "id": "_SJEvfh9OaqU",
        "colab_type": "text"
      },
      "source": [
        "- process의 종류들\n",
        "- `FillMissing` : Look for missing values and deal with them some way.\n",
        "-`Categorify` : Find categorical variables and turn them into Pandas categories\n",
        "-`Normalize`  : Do a normalization ahead of time which is to take continuous variables and subtract their mean and divide by their standard deviation so they are zero-one variables."
      ]
    },
    {
      "cell_type": "markdown",
      "metadata": {
        "id": "fyHV0h2JNkfE",
        "colab_type": "text"
      },
      "source": [
        "- computer vision 에서는 data들을 randomize 하기 위해 각 이미지들을 transformation 했다. : data augmentation\n",
        "- tabular data에서는 transformation 대신에 processing을 하는데, 이는 transformation 과 다르게 앞에서 한 번 해준다. \n"
      ]
    },
    {
      "cell_type": "code",
      "metadata": {
        "id": "Q-RdFx9mC8__",
        "colab_type": "code",
        "colab": {}
      },
      "source": [
        "data = (TabularList.from_df(df, path=path, cat_names=cat_names, cont_names=cont_names, procs=procs)\n",
        "                           .split_by_idx(list(range(800,1000)))\n",
        "                           .label_from_df(cols=dep_var)\n",
        "                           .add_test(test)\n",
        "                           .databunch())"
      ],
      "execution_count": 0,
      "outputs": []
    },
    {
      "cell_type": "markdown",
      "metadata": {
        "id": "6L1e2SIcP0na",
        "colab_type": "text"
      },
      "source": [
        "- `split_by_idx` : validataion set을 만들 때 index를 지정해서 만들어주어야 한다. \n",
        "  - ex) day : 연속인 날들\n",
        "  - ex) video_frames : 연속인 frame처럼\n",
        "  - 이 때 split by idx 가 유용하다.\n"
      ]
    },
    {
      "cell_type": "markdown",
      "metadata": {
        "id": "82RpglBUQfHh",
        "colab_type": "text"
      },
      "source": [
        "- label 은 여기서 종속변수이며, 여기서는 dep_var라는 위에서 할당한 변수에서 가져옴\n",
        "- 독립변수들은 cat_names, cont_names에 있다.\n"
      ]
    },
    {
      "cell_type": "markdown",
      "metadata": {
        "id": "8HeWtdvBPtAh",
        "colab_type": "text"
      },
      "source": [
        "- "
      ]
    },
    {
      "cell_type": "code",
      "metadata": {
        "id": "Q7JgcQtEC9AE",
        "colab_type": "code",
        "outputId": "febb1e22-5cec-4938-821c-cb7293056afa",
        "colab": {
          "base_uri": "https://localhost:8080/",
          "height": 549
        }
      },
      "source": [
        "data.show_batch(rows=10)"
      ],
      "execution_count": 14,
      "outputs": [
        {
          "output_type": "display_data",
          "data": {
            "text/html": [
              "<table border=\"1\" class=\"dataframe\">\n",
              "  <thead>\n",
              "    <tr style=\"text-align: right;\">\n",
              "      <th>workclass</th>\n",
              "      <th>education</th>\n",
              "      <th>marital-status</th>\n",
              "      <th>occupation</th>\n",
              "      <th>relationship</th>\n",
              "      <th>race</th>\n",
              "      <th>education-num_na</th>\n",
              "      <th>age</th>\n",
              "      <th>fnlwgt</th>\n",
              "      <th>education-num</th>\n",
              "      <th>target</th>\n",
              "    </tr>\n",
              "  </thead>\n",
              "  <tbody>\n",
              "    <tr>\n",
              "      <td>Federal-gov</td>\n",
              "      <td>Masters</td>\n",
              "      <td>Married-civ-spouse</td>\n",
              "      <td>Exec-managerial</td>\n",
              "      <td>Husband</td>\n",
              "      <td>White</td>\n",
              "      <td>False</td>\n",
              "      <td>-0.1896</td>\n",
              "      <td>-0.7909</td>\n",
              "      <td>1.5334</td>\n",
              "      <td>&gt;=50k</td>\n",
              "    </tr>\n",
              "    <tr>\n",
              "      <td>Private</td>\n",
              "      <td>HS-grad</td>\n",
              "      <td>Divorced</td>\n",
              "      <td>Other-service</td>\n",
              "      <td>Not-in-family</td>\n",
              "      <td>White</td>\n",
              "      <td>False</td>\n",
              "      <td>-0.4828</td>\n",
              "      <td>-0.2322</td>\n",
              "      <td>-0.4224</td>\n",
              "      <td>&lt;50k</td>\n",
              "    </tr>\n",
              "    <tr>\n",
              "      <td>Private</td>\n",
              "      <td>Assoc-acdm</td>\n",
              "      <td>Married-civ-spouse</td>\n",
              "      <td>Craft-repair</td>\n",
              "      <td>Husband</td>\n",
              "      <td>White</td>\n",
              "      <td>False</td>\n",
              "      <td>-0.2629</td>\n",
              "      <td>-0.6611</td>\n",
              "      <td>0.7511</td>\n",
              "      <td>&lt;50k</td>\n",
              "    </tr>\n",
              "    <tr>\n",
              "      <td>Self-emp-inc</td>\n",
              "      <td>Masters</td>\n",
              "      <td>Married-civ-spouse</td>\n",
              "      <td>Sales</td>\n",
              "      <td>Husband</td>\n",
              "      <td>White</td>\n",
              "      <td>False</td>\n",
              "      <td>1.3496</td>\n",
              "      <td>-0.6681</td>\n",
              "      <td>1.5334</td>\n",
              "      <td>&gt;=50k</td>\n",
              "    </tr>\n",
              "    <tr>\n",
              "      <td>Local-gov</td>\n",
              "      <td>Masters</td>\n",
              "      <td>Never-married</td>\n",
              "      <td>Prof-specialty</td>\n",
              "      <td>Not-in-family</td>\n",
              "      <td>White</td>\n",
              "      <td>False</td>\n",
              "      <td>0.4701</td>\n",
              "      <td>-0.2122</td>\n",
              "      <td>1.5334</td>\n",
              "      <td>&gt;=50k</td>\n",
              "    </tr>\n",
              "    <tr>\n",
              "      <td>Private</td>\n",
              "      <td>Assoc-acdm</td>\n",
              "      <td>Married-civ-spouse</td>\n",
              "      <td>#na#</td>\n",
              "      <td>Wife</td>\n",
              "      <td>White</td>\n",
              "      <td>False</td>\n",
              "      <td>0.7632</td>\n",
              "      <td>-0.8381</td>\n",
              "      <td>0.7511</td>\n",
              "      <td>&gt;=50k</td>\n",
              "    </tr>\n",
              "    <tr>\n",
              "      <td>Private</td>\n",
              "      <td>Bachelors</td>\n",
              "      <td>Never-married</td>\n",
              "      <td>Exec-managerial</td>\n",
              "      <td>Not-in-family</td>\n",
              "      <td>White</td>\n",
              "      <td>False</td>\n",
              "      <td>-0.6294</td>\n",
              "      <td>-0.0320</td>\n",
              "      <td>1.1422</td>\n",
              "      <td>&lt;50k</td>\n",
              "    </tr>\n",
              "    <tr>\n",
              "      <td>Private</td>\n",
              "      <td>HS-grad</td>\n",
              "      <td>Married-civ-spouse</td>\n",
              "      <td>Protective-serv</td>\n",
              "      <td>Husband</td>\n",
              "      <td>White</td>\n",
              "      <td>False</td>\n",
              "      <td>1.4962</td>\n",
              "      <td>0.0704</td>\n",
              "      <td>-0.4224</td>\n",
              "      <td>&gt;=50k</td>\n",
              "    </tr>\n",
              "    <tr>\n",
              "      <td>?</td>\n",
              "      <td>HS-grad</td>\n",
              "      <td>Divorced</td>\n",
              "      <td>?</td>\n",
              "      <td>Not-in-family</td>\n",
              "      <td>White</td>\n",
              "      <td>False</td>\n",
              "      <td>0.5434</td>\n",
              "      <td>-1.4415</td>\n",
              "      <td>-0.4224</td>\n",
              "      <td>&lt;50k</td>\n",
              "    </tr>\n",
              "    <tr>\n",
              "      <td>?</td>\n",
              "      <td>Bachelors</td>\n",
              "      <td>Married-civ-spouse</td>\n",
              "      <td>?</td>\n",
              "      <td>Husband</td>\n",
              "      <td>White</td>\n",
              "      <td>False</td>\n",
              "      <td>1.6428</td>\n",
              "      <td>-0.7222</td>\n",
              "      <td>1.1422</td>\n",
              "      <td>&lt;50k</td>\n",
              "    </tr>\n",
              "  </tbody>\n",
              "</table>"
            ],
            "text/plain": [
              "<IPython.core.display.HTML object>"
            ]
          },
          "metadata": {
            "tags": []
          }
        }
      ]
    },
    {
      "cell_type": "code",
      "metadata": {
        "id": "T-Mnf91oC9AK",
        "colab_type": "code",
        "colab": {}
      },
      "source": [
        "learn = tabular_learner(data, layers=[200,100], metrics=accuracy)"
      ],
      "execution_count": 0,
      "outputs": []
    },
    {
      "cell_type": "code",
      "metadata": {
        "id": "x-HK975bC9AS",
        "colab_type": "code",
        "outputId": "93443c15-7bf0-436f-bffc-0a2ac3886f7a",
        "colab": {}
      },
      "source": [
        "learn.fit(1, 1e-2)"
      ],
      "execution_count": 0,
      "outputs": [
        {
          "output_type": "display_data",
          "data": {
            "text/html": [
              "Total time: 00:03 <p><table style='width:300px; margin-bottom:10px'>\n",
              "  <tr>\n",
              "    <th>epoch</th>\n",
              "    <th>train_loss</th>\n",
              "    <th>valid_loss</th>\n",
              "    <th>accuracy</th>\n",
              "  </tr>\n",
              "  <tr>\n",
              "    <th>1</th>\n",
              "    <th>0.354604</th>\n",
              "    <th>0.378520</th>\n",
              "    <th>0.820000</th>\n",
              "  </tr>\n",
              "</table>\n"
            ],
            "text/plain": [
              "<IPython.core.display.HTML object>"
            ]
          },
          "metadata": {
            "tags": []
          }
        }
      ]
    },
    {
      "cell_type": "markdown",
      "metadata": {
        "id": "Sc2dPEVuC9AY",
        "colab_type": "text"
      },
      "source": [
        "## Inference"
      ]
    },
    {
      "cell_type": "code",
      "metadata": {
        "id": "h4yE-ykbC9Aa",
        "colab_type": "code",
        "colab": {}
      },
      "source": [
        "row = df.iloc[0]"
      ],
      "execution_count": 0,
      "outputs": []
    },
    {
      "cell_type": "code",
      "metadata": {
        "id": "5JfvbvOxC9Af",
        "colab_type": "code",
        "outputId": "406f5d9a-3635-400d-b614-35ec85591d29",
        "colab": {
          "base_uri": "https://localhost:8080/",
          "height": 34
        }
      },
      "source": [
        "learn.predict(row)"
      ],
      "execution_count": 17,
      "outputs": [
        {
          "output_type": "execute_result",
          "data": {
            "text/plain": [
              "(Category >=50k, tensor(1), tensor([0.4698, 0.5302]))"
            ]
          },
          "metadata": {
            "tags": []
          },
          "execution_count": 17
        }
      ]
    },
    {
      "cell_type": "code",
      "metadata": {
        "id": "XYJlnJxcC9Aj",
        "colab_type": "code",
        "colab": {}
      },
      "source": [
        ""
      ],
      "execution_count": 0,
      "outputs": []
    }
  ]
}