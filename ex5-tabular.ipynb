{
  "nbformat": 4,
  "nbformat_minor": 0,
  "metadata": {
    "kernelspec": {
      "name": "python3",
      "display_name": "Python 3"
    },
    "colab": {
      "name": "lesson4-tabular.ipynb",
      "provenance": [],
      "include_colab_link": true
    },
    "accelerator": "GPU"
  },
  "cells": [
    {
      "cell_type": "markdown",
      "metadata": {
        "id": "view-in-github",
        "colab_type": "text"
      },
      "source": [
        "<a href=\"https://colab.research.google.com/github/wakii/ML_Programming/blob/master/ex5-tabular.ipynb\" target=\"_parent\"><img src=\"https://colab.research.google.com/assets/colab-badge.svg\" alt=\"Open In Colab\"/></a>"
      ]
    },
    {
      "cell_type": "markdown",
      "metadata": {
        "id": "Ww417BvpRQrn",
        "colab_type": "text"
      },
      "source": [
        "- learning rate의 magic number : 2.6^4 : slice는 가장 낮은 layer와 가장 높은 layer의 learning 차이다. : discriminative learning rates\n",
        "- NLP RNN에서는 2.6이 layer에서 layer로 증가할 때마다 줄어드는게 좋다.\n",
        "- randomforest : NLP classifier를 이용해 예측할 때 randomforest model을 사용하였는데, 이 때 optimal parameter(LR)로 2.6을 찾았다. \n",
        "\n"
      ]
    },
    {
      "cell_type": "markdown",
      "metadata": {
        "id": "NJ6Oa1ZoTO56",
        "colab_type": "text"
      },
      "source": [
        "- tabular data에도 neural net을 이용하는게 효과적이라는게 밝혀졌다.\n",
        "- engineering은 여전히 필요하지만 계속 simple 해졌으며, randomforest보다 neural net쓰는게 더 standard가 되었다.\n",
        "- fastai.tabular는 neuralnet을 tabular data 에 쉽게 적용할 수 있게 해준다. "
      ]
    },
    {
      "cell_type": "markdown",
      "metadata": {
        "id": "Zhb9s8k-C8_e",
        "colab_type": "text"
      },
      "source": [
        "# Tabular models"
      ]
    },
    {
      "cell_type": "code",
      "metadata": {
        "id": "xBiEikD9C8_g",
        "colab_type": "code",
        "colab": {}
      },
      "source": [
        "from fastai.tabular import *"
      ],
      "execution_count": 0,
      "outputs": []
    },
    {
      "cell_type": "markdown",
      "metadata": {
        "id": "0mFcGbkgC8_q",
        "colab_type": "text"
      },
      "source": [
        "Tabular data should be in a Pandas `DataFrame`."
      ]
    },
    {
      "cell_type": "code",
      "metadata": {
        "id": "houCl7Y7C8_t",
        "colab_type": "code",
        "colab": {}
      },
      "source": [
        "path = untar_data(URLs.ADULT_SAMPLE)\n",
        "df = pd.read_csv(path/'adult.csv')"
      ],
      "execution_count": 0,
      "outputs": []
    },
    {
      "cell_type": "code",
      "metadata": {
        "id": "qOQv-ZEVC8_0",
        "colab_type": "code",
        "colab": {}
      },
      "source": [
        "dep_var = 'salary'\n",
        "cat_names = ['workclass', 'education', 'marital-status', 'occupation', 'relationship', 'race']\n",
        "cont_names = ['age', 'fnlwgt', 'education-num']\n",
        "procs = [FillMissing, Categorify, Normalize]"
      ],
      "execution_count": 0,
      "outputs": []
    },
    {
      "cell_type": "code",
      "metadata": {
        "id": "-c7RwBnEC8_6",
        "colab_type": "code",
        "colab": {}
      },
      "source": [
        "test = TabularList.from_df(df.iloc[800:1000].copy(), path=path, cat_names=cat_names, cont_names=cont_names)"
      ],
      "execution_count": 0,
      "outputs": []
    },
    {
      "cell_type": "code",
      "metadata": {
        "id": "Q-RdFx9mC8__",
        "colab_type": "code",
        "colab": {}
      },
      "source": [
        "data = (TabularList.from_df(df, path=path, cat_names=cat_names, cont_names=cont_names, procs=procs)\n",
        "                           .split_by_idx(list(range(800,1000)))\n",
        "                           .label_from_df(cols=dep_var)\n",
        "                           .add_test(test)\n",
        "                           .databunch())"
      ],
      "execution_count": 0,
      "outputs": []
    },
    {
      "cell_type": "code",
      "metadata": {
        "id": "Q7JgcQtEC9AE",
        "colab_type": "code",
        "colab": {},
        "outputId": "b6886c6a-4440-4ce5-ff87-f5613cf8c715"
      },
      "source": [
        "data.show_batch(rows=10)"
      ],
      "execution_count": 0,
      "outputs": [
        {
          "output_type": "display_data",
          "data": {
            "text/html": [
              "<table>  <col width='10%'>  <col width='10%'>  <col width='10%'>  <col width='10%'>  <col width='10%'>  <col width='10%'>  <col width='10%'>  <col width='10%'>  <col width='10%'>  <col width='10%'>  <col width='10%'>  <tr>\n",
              "    <th>workclass</th>\n",
              "    <th>education</th>\n",
              "    <th>marital-status</th>\n",
              "    <th>occupation</th>\n",
              "    <th>relationship</th>\n",
              "    <th>race</th>\n",
              "    <th>education-num_na</th>\n",
              "    <th>age</th>\n",
              "    <th>fnlwgt</th>\n",
              "    <th>education-num</th>\n",
              "    <th>target</th>\n",
              "  </tr>\n",
              "  <tr>\n",
              "    <th> Private</th>\n",
              "    <th> HS-grad</th>\n",
              "    <th> Never-married</th>\n",
              "    <th> Sales</th>\n",
              "    <th> Not-in-family</th>\n",
              "    <th> White</th>\n",
              "    <th>False</th>\n",
              "    <th>-1.2158</th>\n",
              "    <th>1.1004</th>\n",
              "    <th>-0.4224</th>\n",
              "    <th><50k</th>\n",
              "  </tr>\n",
              "  <tr>\n",
              "    <th> ?</th>\n",
              "    <th> HS-grad</th>\n",
              "    <th> Widowed</th>\n",
              "    <th> ?</th>\n",
              "    <th> Not-in-family</th>\n",
              "    <th> White</th>\n",
              "    <th>False</th>\n",
              "    <th>1.8627</th>\n",
              "    <th>0.0976</th>\n",
              "    <th>-0.4224</th>\n",
              "    <th><50k</th>\n",
              "  </tr>\n",
              "  <tr>\n",
              "    <th> Self-emp-not-inc</th>\n",
              "    <th> HS-grad</th>\n",
              "    <th> Never-married</th>\n",
              "    <th> Craft-repair</th>\n",
              "    <th> Own-child</th>\n",
              "    <th> Black</th>\n",
              "    <th>False</th>\n",
              "    <th>0.0303</th>\n",
              "    <th>0.2092</th>\n",
              "    <th>-0.4224</th>\n",
              "    <th><50k</th>\n",
              "  </tr>\n",
              "  <tr>\n",
              "    <th> Private</th>\n",
              "    <th> HS-grad</th>\n",
              "    <th> Married-civ-spouse</th>\n",
              "    <th> Protective-serv</th>\n",
              "    <th> Husband</th>\n",
              "    <th> White</th>\n",
              "    <th>False</th>\n",
              "    <th>1.5695</th>\n",
              "    <th>-0.5938</th>\n",
              "    <th>-0.4224</th>\n",
              "    <th><50k</th>\n",
              "  </tr>\n",
              "  <tr>\n",
              "    <th> Private</th>\n",
              "    <th> HS-grad</th>\n",
              "    <th> Married-civ-spouse</th>\n",
              "    <th> Handlers-cleaners</th>\n",
              "    <th> Husband</th>\n",
              "    <th> White</th>\n",
              "    <th>False</th>\n",
              "    <th>-0.9959</th>\n",
              "    <th>-0.0318</th>\n",
              "    <th>-0.4224</th>\n",
              "    <th><50k</th>\n",
              "  </tr>\n",
              "  <tr>\n",
              "    <th> Private</th>\n",
              "    <th> 10th</th>\n",
              "    <th> Married-civ-spouse</th>\n",
              "    <th> Farming-fishing</th>\n",
              "    <th> Wife</th>\n",
              "    <th> White</th>\n",
              "    <th>False</th>\n",
              "    <th>-0.7027</th>\n",
              "    <th>0.6071</th>\n",
              "    <th>-1.5958</th>\n",
              "    <th><50k</th>\n",
              "  </tr>\n",
              "  <tr>\n",
              "    <th> Private</th>\n",
              "    <th> HS-grad</th>\n",
              "    <th> Married-civ-spouse</th>\n",
              "    <th> Machine-op-inspct</th>\n",
              "    <th> Husband</th>\n",
              "    <th> White</th>\n",
              "    <th>False</th>\n",
              "    <th>0.1036</th>\n",
              "    <th>-0.0968</th>\n",
              "    <th>-0.4224</th>\n",
              "    <th><50k</th>\n",
              "  </tr>\n",
              "  <tr>\n",
              "    <th> Private</th>\n",
              "    <th> Some-college</th>\n",
              "    <th> Married-civ-spouse</th>\n",
              "    <th> Exec-managerial</th>\n",
              "    <th> Own-child</th>\n",
              "    <th> White</th>\n",
              "    <th>False</th>\n",
              "    <th>-0.7760</th>\n",
              "    <th>-0.6653</th>\n",
              "    <th>-0.0312</th>\n",
              "    <th>>=50k</th>\n",
              "  </tr>\n",
              "  <tr>\n",
              "    <th> State-gov</th>\n",
              "    <th> Some-college</th>\n",
              "    <th> Never-married</th>\n",
              "    <th> Tech-support</th>\n",
              "    <th> Own-child</th>\n",
              "    <th> White</th>\n",
              "    <th>False</th>\n",
              "    <th>-0.8493</th>\n",
              "    <th>-1.4959</th>\n",
              "    <th>-0.0312</th>\n",
              "    <th><50k</th>\n",
              "  </tr>\n",
              "  <tr>\n",
              "    <th> Private</th>\n",
              "    <th> 11th</th>\n",
              "    <th> Never-married</th>\n",
              "    <th> Machine-op-inspct</th>\n",
              "    <th> Not-in-family</th>\n",
              "    <th> White</th>\n",
              "    <th>False</th>\n",
              "    <th>-1.0692</th>\n",
              "    <th>-0.9516</th>\n",
              "    <th>-1.2046</th>\n",
              "    <th><50k</th>\n",
              "  </tr>\n",
              "</table>\n"
            ],
            "text/plain": [
              "<IPython.core.display.HTML object>"
            ]
          },
          "metadata": {
            "tags": []
          }
        }
      ]
    },
    {
      "cell_type": "code",
      "metadata": {
        "id": "T-Mnf91oC9AK",
        "colab_type": "code",
        "colab": {}
      },
      "source": [
        "learn = tabular_learner(data, layers=[200,100], metrics=accuracy)"
      ],
      "execution_count": 0,
      "outputs": []
    },
    {
      "cell_type": "code",
      "metadata": {
        "id": "x-HK975bC9AS",
        "colab_type": "code",
        "colab": {},
        "outputId": "93443c15-7bf0-436f-bffc-0a2ac3886f7a"
      },
      "source": [
        "learn.fit(1, 1e-2)"
      ],
      "execution_count": 0,
      "outputs": [
        {
          "output_type": "display_data",
          "data": {
            "text/html": [
              "Total time: 00:03 <p><table style='width:300px; margin-bottom:10px'>\n",
              "  <tr>\n",
              "    <th>epoch</th>\n",
              "    <th>train_loss</th>\n",
              "    <th>valid_loss</th>\n",
              "    <th>accuracy</th>\n",
              "  </tr>\n",
              "  <tr>\n",
              "    <th>1</th>\n",
              "    <th>0.354604</th>\n",
              "    <th>0.378520</th>\n",
              "    <th>0.820000</th>\n",
              "  </tr>\n",
              "</table>\n"
            ],
            "text/plain": [
              "<IPython.core.display.HTML object>"
            ]
          },
          "metadata": {
            "tags": []
          }
        }
      ]
    },
    {
      "cell_type": "markdown",
      "metadata": {
        "id": "Sc2dPEVuC9AY",
        "colab_type": "text"
      },
      "source": [
        "## Inference"
      ]
    },
    {
      "cell_type": "code",
      "metadata": {
        "id": "h4yE-ykbC9Aa",
        "colab_type": "code",
        "colab": {}
      },
      "source": [
        "row = df.iloc[0]"
      ],
      "execution_count": 0,
      "outputs": []
    },
    {
      "cell_type": "code",
      "metadata": {
        "id": "5JfvbvOxC9Af",
        "colab_type": "code",
        "colab": {},
        "outputId": "65466847-aa82-43bb-bfe1-674be3f13958"
      },
      "source": [
        "learn.predict(row)"
      ],
      "execution_count": 0,
      "outputs": [
        {
          "output_type": "execute_result",
          "data": {
            "text/plain": [
              "(Category >=50k, tensor(1), tensor([0.4402, 0.5598]))"
            ]
          },
          "metadata": {
            "tags": []
          },
          "execution_count": 0
        }
      ]
    },
    {
      "cell_type": "code",
      "metadata": {
        "id": "XYJlnJxcC9Aj",
        "colab_type": "code",
        "colab": {}
      },
      "source": [
        ""
      ],
      "execution_count": 0,
      "outputs": []
    }
  ]
}